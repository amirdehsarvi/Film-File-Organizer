{
 "cells": [
  {
   "cell_type": "code",
   "execution_count": 15,
   "id": "3627da5f-c3b0-4159-9fb1-e508417ce477",
   "metadata": {},
   "outputs": [
    {
     "name": "stdin",
     "output_type": "stream",
     "text": [
      "Please enter the folder path:  /Volumes/Films/To Watch\n"
     ]
    },
    {
     "name": "stdout",
     "output_type": "stream",
     "text": [
      "The movie name is: See+You+Friday+Robinson+2022\n"
     ]
    },
    {
     "name": "stdin",
     "output_type": "stream",
     "text": [
      "What is your preffered film title for the search: \n",
      "See+You+Friday+Robinson+2022\n",
      "Enter with + (enter to skip):  \n"
     ]
    },
    {
     "name": "stdout",
     "output_type": "stream",
     "text": [
      "The movie name is: Jackals+and+Fireflies+2023+WEB-DL\n"
     ]
    },
    {
     "name": "stdin",
     "output_type": "stream",
     "text": [
      "What is your preffered film title for the search: \n",
      "Jackals+and+Fireflies+2023+WEB-DL\n",
      "Enter with + (enter to skip):  \n"
     ]
    },
    {
     "name": "stdout",
     "output_type": "stream",
     "text": [
      "The movie name is: The+Seventh+Seal+1957+1080p\n"
     ]
    },
    {
     "name": "stdin",
     "output_type": "stream",
     "text": [
      "What is your preffered film title for the search: \n",
      "The+Seventh+Seal+1957+1080p\n",
      "Enter with + (enter to skip):  The+Seventh+Seal\n"
     ]
    },
    {
     "name": "stdout",
     "output_type": "stream",
     "text": [
      "The film title is:  The Seventh Seal\n",
      "\n",
      "The release year is:  1957\n",
      "\n",
      "The director is:  Ingmar Bergman\n"
     ]
    },
    {
     "name": "stdin",
     "output_type": "stream",
     "text": [
      "Please confirm if this is the correct film by visiting this URL: https://www.imdb.com/title/tt0050976/\n",
      "Enter y/n:  y\n"
     ]
    },
    {
     "name": "stdout",
     "output_type": "stream",
     "text": [
      "Film confirmed!\n",
      "The movie name is: AlltheBeautyandtheBloodshed2022WEBRip+1080p+PSAMA+Dream+mkv\n"
     ]
    },
    {
     "name": "stdin",
     "output_type": "stream",
     "text": [
      "What is your preffered film title for the search: \n",
      "AlltheBeautyandtheBloodshed2022WEBRip+1080p+PSAMA+Dream+mkv\n",
      "Enter with + (enter to skip):  All+the+Beauty+and+the+Bloodshed\n"
     ]
    },
    {
     "name": "stdout",
     "output_type": "stream",
     "text": [
      "The film title is:  All the Beauty and the Bloodshed\n",
      "\n",
      "The release year is:  2022\n",
      "\n",
      "The director is:  Laura Poitras\n"
     ]
    },
    {
     "name": "stdin",
     "output_type": "stream",
     "text": [
      "Please confirm if this is the correct film by visiting this URL: https://www.imdb.com/title/tt21374850/\n",
      "Enter y/n:  y\n"
     ]
    },
    {
     "name": "stdout",
     "output_type": "stream",
     "text": [
      "Film confirmed!\n",
      "The movie name is: Trenque Lauquen+2022+WEB-DL+1080p+ZETA\n"
     ]
    },
    {
     "name": "stdin",
     "output_type": "stream",
     "text": [
      "What is your preffered film title for the search: \n",
      "Trenque Lauquen+2022+WEB-DL+1080p+ZETA\n",
      "Enter with + (enter to skip):  Trenque+Lauquen\n"
     ]
    },
    {
     "name": "stdout",
     "output_type": "stream",
     "text": [
      "The film title is:  Trenque Lauquen parte I\n",
      "\n",
      "The release year is:  2022\n",
      "\n",
      "The director is:  Laura Citarella\n"
     ]
    },
    {
     "name": "stdin",
     "output_type": "stream",
     "text": [
      "Please confirm if this is the correct film by visiting this URL: https://www.imdb.com/title/tt21378968/\n",
      "Enter y/n:  y\n"
     ]
    },
    {
     "name": "stdout",
     "output_type": "stream",
     "text": [
      "Film confirmed!\n",
      "The movie name is: Intelligent+Lives+2018+720p+WEB-DL\n"
     ]
    },
    {
     "name": "stdin",
     "output_type": "stream",
     "text": [
      "What is your preffered film title for the search: \n",
      "Intelligent+Lives+2018+720p+WEB-DL\n",
      "Enter with + (enter to skip):  Intelligent+Lives\n"
     ]
    },
    {
     "name": "stdout",
     "output_type": "stream",
     "text": [
      "The film title is:  Intelligent Lives\n",
      "\n",
      "The release year is:  2018\n",
      "\n",
      "The director is:  Dan Habib\n"
     ]
    },
    {
     "name": "stdin",
     "output_type": "stream",
     "text": [
      "Please confirm if this is the correct film by visiting this URL: https://www.imdb.com/title/tt7948406/\n",
      "Enter y/n:  y\n"
     ]
    },
    {
     "name": "stdout",
     "output_type": "stream",
     "text": [
      "Film confirmed!\n",
      "Moved Intelligent.Lives.2018.720p.WEB-DL.YIFY.Filmkio.com.mkv to /Volumes/Films/To Watch/Dan Habib/2018 - Intelligent Lives\n"
     ]
    }
   ],
   "source": [
    "\n",
    "import os\n",
    "import requests\n",
    "import json\n",
    "from bs4 import BeautifulSoup\n",
    "\n",
    "# Get folder path from user\n",
    "folder_path = input(\"Please enter the folder path: \")\n",
    "\n",
    "# Get list of files in the folder \n",
    "# files = os.listdir(folder_path)\n",
    "files = [f for f in os.listdir(folder_path) if os.path.isfile(os.path.join(folder_path, f))]\n",
    "\n",
    "# Iterate through each file in the folder \n",
    "for file in files:\n",
    "\n",
    "    if file.startswith('.'):\n",
    "        continue\n",
    "\n",
    "    # Get movie name from file name \n",
    "    movie_name = file.split('.')[0:5]\n",
    "    a1 = \" \"\n",
    "    for i in range(len(movie_name)):\n",
    "        if movie_name[i] == ' ':\n",
    "            a1 = a1 + '+'\n",
    "        else:\n",
    "            if i != 0:\n",
    "                a1 = a1 + '+' + movie_name[i]\n",
    "            else:\n",
    "                a1 = movie_name[i]\n",
    "    movie_name1 = a1\n",
    "    print(\"The movie name is: \" + movie_name1)\n",
    "\n",
    "    confirmTitle = input(\"What is your preffered film title for the search: \" + \"\\n\" + movie_name1 + \"\\nEnter with + (enter to skip): \" )\n",
    "    \n",
    "    if confirmTitle == \"\":\n",
    "        continue\n",
    "        \n",
    "    # Search movie on IMDB and get its details \n",
    "    # url = 'https://www.imdb.com/find?ref_=nv_sr_fn&q=' + movie_name + '&s=all'\n",
    "    url = 'http://www.omdbapi.com/?apikey=a34d4e1f&t=' + confirmTitle\n",
    "    response = requests.get(url)\n",
    "    \n",
    "    if response.status_code == 200:\n",
    "        # Parse response as JSON\n",
    "        data = json.loads(response.text)\n",
    "\n",
    "        var_exists = data['Director'] in locals() or data['Director'] in globals()\n",
    "\n",
    "\n",
    "        # Ask user to confirm correct film with a URL \n",
    "        imdbUrl = \"https://www.imdb.com/title/\" + data['imdbID'] + \"/\"\n",
    "        print(\"The film title is: \", data['Title'])\n",
    "        print(\"\\nThe release year is: \", data['Year'])\n",
    "        print(\"\\nThe director is: \", data['Director'])\n",
    "        confirmMovie = input(\"Please confirm if this is the correct film by visiting this URL: \" + imdbUrl + \"\\nEnter y/n: \" )\n",
    "        url = 'http://www.omdbapi.com/?apikey=a34d4e1f&t=' + movie_name1\n",
    "        response = requests.get(url)\n",
    "        if confirmMovie == 'n':\n",
    "            ID = input(\"Please enter the correct imdb ID ONLY: \")\n",
    "            imdbUrl = \"https://www.imdb.com/title/\" + ID + \"/\"\n",
    "            \n",
    "            url = 'http://www.omdbapi.com/?apikey=a34d4e1f&i=' + ID\n",
    "            response = requests.get(url)\n",
    "            data = json.loads(response.text)\n",
    "\n",
    "            # Get director name and release year from response\n",
    "            director_name = data['Director']\n",
    "            release_year = data['Year']\n",
    "            movie_name = data['Title']\n",
    "            \n",
    "            # Create directory structure based on director name and release year\n",
    "            dir_structure = os.path.join(folder_path, director_name, release_year + ' - ' + movie_name)\n",
    "            \n",
    "            if not os.path.exists(dir_structure):\n",
    "                os.makedirs(dir_structure)\n",
    "                \n",
    "                # Move the file to new directory structure\n",
    "                sourceFilePath = os.path.join(folder_path, file)\n",
    "                \n",
    "                destFilePath = os.path.join(dir_structure, file)\n",
    "                \n",
    "                os.rename(sourceFilePath, destFilePath)\n",
    "                os.chdir(dir_structure)\n",
    "                \n",
    "                \n",
    "                new_file_name = movie_name + os.path.splitext(file)[1]\n",
    "                \n",
    "                os.rename(file, new_file_name)\n",
    "                os.chdir(folder_path)\n",
    "\n",
    "        else:\n",
    "            print('Film confirmed!')\n",
    "                        \n",
    "            # Get director name and release year from response\n",
    "            director_name = data['Director']\n",
    "            release_year = data['Year']\n",
    "            movie_name = data['Title']\n",
    "            \n",
    "            # Create directory structure based on director name and release year\n",
    "            dir_structure = os.path.join(folder_path, director_name, release_year + ' - ' + movie_name)\n",
    "            \n",
    "            if not os.path.exists(dir_structure):\n",
    "                os.makedirs(dir_structure)\n",
    "                \n",
    "                # Move the file to new directory structure\n",
    "                sourceFilePath = os.path.join(folder_path, file)\n",
    "                \n",
    "                destFilePath = os.path.join(dir_structure, file)\n",
    "                \n",
    "                os.rename(sourceFilePath, destFilePath)\n",
    "                os.chdir(dir_structure)\n",
    "                \n",
    "                \n",
    "                new_file_name = movie_name + os.path.splitext(file)[1]\n",
    "                \n",
    "                os.rename(file, new_file_name)\n",
    "                os.chdir(folder_path)\n",
    "                \n",
    "print(\"Moved %s to %s\" % (file, dir_structure))  \n",
    "\n"
   ]
  },
  {
   "cell_type": "code",
   "execution_count": null,
   "id": "20263d43-ed9c-4557-bd2f-2aa55341740f",
   "metadata": {},
   "outputs": [],
   "source": []
  }
 ],
 "metadata": {
  "kernelspec": {
   "display_name": "Python 3 (ipykernel)",
   "language": "python",
   "name": "python3"
  },
  "language_info": {
   "codemirror_mode": {
    "name": "ipython",
    "version": 3
   },
   "file_extension": ".py",
   "mimetype": "text/x-python",
   "name": "python",
   "nbconvert_exporter": "python",
   "pygments_lexer": "ipython3",
   "version": "3.10.9"
  }
 },
 "nbformat": 4,
 "nbformat_minor": 5
}
