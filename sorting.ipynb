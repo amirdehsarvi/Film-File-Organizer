{
 "cells": [
  {
   "cell_type": "code",
   "execution_count": 28,
   "id": "3627da5f-c3b0-4159-9fb1-e508417ce477",
   "metadata": {},
   "outputs": [
    {
     "name": "stdin",
     "output_type": "stream",
     "text": [
      "Please enter the folder path:  /Volumes/Films/AJ\n"
     ]
    },
    {
     "name": "stdout",
     "output_type": "stream",
     "text": [
      "The file name is: Happy Unhappy\n"
     ]
    },
    {
     "name": "stdin",
     "output_type": "stream",
     "text": [
      "Could not find the film. Please enter the correct imdb ID ONLY:  \n"
     ]
    },
    {
     "name": "stdout",
     "output_type": "stream",
     "text": [
      "The file name is: Riley's First Date\n",
      "The film title is:  Riley's First Date?\n",
      "\n",
      "The release year is:  2015\n",
      "\n",
      "The director is:  Josh Cooley\n",
      "\n",
      "The IMDB link is:  https://www.imdb.com/title/tt4941804/\n"
     ]
    },
    {
     "name": "stdin",
     "output_type": "stream",
     "text": [
      "\n",
      "Please confirm if this is the correct film by entering y/n (Press enter to skip):  y\n"
     ]
    },
    {
     "name": "stdout",
     "output_type": "stream",
     "text": [
      "Film confirmed!\n",
      "The file name is: Mower Minions\n",
      "The film title is:  Mower Minions\n",
      "\n",
      "The release year is:  2016\n",
      "\n",
      "The director is:  Bruno Chauffard, Glenn McCoy\n",
      "\n",
      "The IMDB link is:  https://www.imdb.com/title/tt5873098/\n"
     ]
    },
    {
     "name": "stdin",
     "output_type": "stream",
     "text": [
      "\n",
      "Please confirm if this is the correct film by entering y/n (Press enter to skip):  y\n"
     ]
    },
    {
     "name": "stdout",
     "output_type": "stream",
     "text": [
      "Film confirmed!\n",
      "The file name is: Meanwhile\n",
      "The film title is:  Meanwhile\n",
      "\n",
      "The release year is:  2011\n",
      "\n",
      "The director is:  Hal Hartley\n",
      "\n",
      "The IMDB link is:  https://www.imdb.com/title/tt1748113/\n"
     ]
    },
    {
     "name": "stdin",
     "output_type": "stream",
     "text": [
      "\n",
      "Please confirm if this is the correct film by entering y/n (Press enter to skip):  \n"
     ]
    },
    {
     "name": "stdout",
     "output_type": "stream",
     "text": [
      "The file name is: Children Full of Life\n"
     ]
    },
    {
     "name": "stdin",
     "output_type": "stream",
     "text": [
      "Could not find the film. Please enter the correct imdb ID ONLY:  tt0469049\n"
     ]
    },
    {
     "name": "stdout",
     "output_type": "stream",
     "text": [
      "The film title is:  Namida to warai no happî kurasu: 4 nen 1 kumi Inochi no jugyô\n",
      "\n",
      "The release year is:  2003\n",
      "\n",
      "The director is:  Noboru Kaetsu\n",
      "\n",
      "The IMDB link is:  https://www.imdb.com/title/tt0469049/\n",
      "Film confirmed!\n",
      "The file name is: Desiree\n",
      "The film title is:  Desiree\n",
      "\n",
      "The release year is:  2014\n",
      "\n",
      "The director is:  Ross Clarke\n",
      "\n",
      "The IMDB link is:  https://www.imdb.com/title/tt1718763/\n"
     ]
    },
    {
     "name": "stdin",
     "output_type": "stream",
     "text": [
      "\n",
      "Please confirm if this is the correct film by entering y/n (Press enter to skip):  n\n",
      "Please enter the correct imdb ID ONLY (Press enter to skip):  tt0046903\n"
     ]
    },
    {
     "name": "stdout",
     "output_type": "stream",
     "text": [
      "Film confirmed!\n",
      "The film title is:  Désirée\n",
      "\n",
      "The release year is:  1954\n",
      "\n",
      "The director is:  Henry Koster\n",
      "\n",
      "The IMDB link is:  https://www.imdb.com/title/tt0046903/\n",
      "The file name is: Vampyr\n",
      "The film title is:  Vampyr\n",
      "\n",
      "The release year is:  1932\n",
      "\n",
      "The director is:  Carl Theodor Dreyer\n",
      "\n",
      "The IMDB link is:  https://www.imdb.com/title/tt0023649/\n"
     ]
    },
    {
     "name": "stdin",
     "output_type": "stream",
     "text": [
      "\n",
      "Please confirm if this is the correct film by entering y/n (Press enter to skip):  y\n"
     ]
    },
    {
     "name": "stdout",
     "output_type": "stream",
     "text": [
      "Film confirmed!\n",
      "The file name is: The Cat with Hands\n",
      "The film title is:  The Cat with Hands\n",
      "\n",
      "The release year is:  2001\n",
      "\n",
      "The director is:  Robert Morgan\n",
      "\n",
      "The IMDB link is:  https://www.imdb.com/title/tt0371596/\n"
     ]
    },
    {
     "name": "stdin",
     "output_type": "stream",
     "text": [
      "\n",
      "Please confirm if this is the correct film by entering y/n (Press enter to skip):  y\n"
     ]
    },
    {
     "name": "stdout",
     "output_type": "stream",
     "text": [
      "Film confirmed!\n",
      "The file name is: Mao's Last Dancer\n",
      "The film title is:  Mao's Last Dancer\n",
      "\n",
      "The release year is:  2009\n",
      "\n",
      "The director is:  Bruce Beresford\n",
      "\n",
      "The IMDB link is:  https://www.imdb.com/title/tt1071812/\n"
     ]
    },
    {
     "name": "stdin",
     "output_type": "stream",
     "text": [
      "\n",
      "Please confirm if this is the correct film by entering y/n (Press enter to skip):  y\n"
     ]
    },
    {
     "name": "stdout",
     "output_type": "stream",
     "text": [
      "Film confirmed!\n",
      "The file name is: Captain Fantastic\n",
      "The film title is:  Captain Fantastic\n",
      "\n",
      "The release year is:  2016\n",
      "\n",
      "The director is:  Matt Ross\n",
      "\n",
      "The IMDB link is:  https://www.imdb.com/title/tt3553976/\n"
     ]
    },
    {
     "name": "stdin",
     "output_type": "stream",
     "text": [
      "\n",
      "Please confirm if this is the correct film by entering y/n (Press enter to skip):  y\n"
     ]
    },
    {
     "name": "stdout",
     "output_type": "stream",
     "text": [
      "Film confirmed!\n",
      "The file name is: The Man Without a Shadow\n"
     ]
    },
    {
     "name": "stdin",
     "output_type": "stream",
     "text": [
      "Could not find the film. Please enter the correct imdb ID ONLY:  tt0415853\n"
     ]
    },
    {
     "name": "stdout",
     "output_type": "stream",
     "text": [
      "The film title is:  L'homme sans ombre\n",
      "\n",
      "The release year is:  2004\n",
      "\n",
      "The director is:  Georges Schwizgebel\n",
      "\n",
      "The IMDB link is:  https://www.imdb.com/title/tt0415853/\n",
      "Film confirmed!\n",
      "The file name is: Winnie the Pooh and the Blustery Day\n",
      "The film title is:  Winnie the Pooh and the Blustery Day\n",
      "\n",
      "The release year is:  1968\n",
      "\n",
      "The director is:  Wolfgang Reitherman, Ben Sharpsteen\n",
      "\n",
      "The IMDB link is:  https://www.imdb.com/title/tt0063819/\n"
     ]
    },
    {
     "name": "stdin",
     "output_type": "stream",
     "text": [
      "\n",
      "Please confirm if this is the correct film by entering y/n (Press enter to skip):  y\n"
     ]
    },
    {
     "name": "stdout",
     "output_type": "stream",
     "text": [
      "Film confirmed!\n",
      "The file name is: Cake\n",
      "The film title is:  Cake\n",
      "\n",
      "The release year is:  2014\n",
      "\n",
      "The director is:  Daniel Barnz\n",
      "\n",
      "The IMDB link is:  https://www.imdb.com/title/tt3442006/\n"
     ]
    },
    {
     "name": "stdin",
     "output_type": "stream",
     "text": [
      "\n",
      "Please confirm if this is the correct film by entering y/n (Press enter to skip):  y\n"
     ]
    },
    {
     "name": "stdout",
     "output_type": "stream",
     "text": [
      "Film confirmed!\n",
      "The file name is: We Can't Live Without Cosmos\n",
      "The film title is:  We Can't Live Without Cosmos\n",
      "\n",
      "The release year is:  2014\n",
      "\n",
      "The director is:  Konstantin Bronzit\n",
      "\n",
      "The IMDB link is:  https://www.imdb.com/title/tt3965660/\n"
     ]
    },
    {
     "name": "stdin",
     "output_type": "stream",
     "text": [
      "\n",
      "Please confirm if this is the correct film by entering y/n (Press enter to skip):  y\n"
     ]
    },
    {
     "name": "stdout",
     "output_type": "stream",
     "text": [
      "Film confirmed!\n",
      "The file name is: Atraksion\n",
      "The film title is:  Atraksion\n",
      "\n",
      "The release year is:  2001\n",
      "\n",
      "The director is:  Raoul Servais\n",
      "\n",
      "The IMDB link is:  https://www.imdb.com/title/tt0291736/\n"
     ]
    },
    {
     "name": "stdin",
     "output_type": "stream",
     "text": [
      "\n",
      "Please confirm if this is the correct film by entering y/n (Press enter to skip):  y\n"
     ]
    },
    {
     "name": "stdout",
     "output_type": "stream",
     "text": [
      "Film confirmed!\n",
      "The file name is: Blue Ruin\n",
      "The film title is:  Blue Ruin\n",
      "\n",
      "The release year is:  2013\n",
      "\n",
      "The director is:  Jeremy Saulnier\n",
      "\n",
      "The IMDB link is:  https://www.imdb.com/title/tt2359024/\n"
     ]
    },
    {
     "name": "stdin",
     "output_type": "stream",
     "text": [
      "\n",
      "Please confirm if this is the correct film by entering y/n (Press enter to skip):  y\n"
     ]
    },
    {
     "name": "stdout",
     "output_type": "stream",
     "text": [
      "Film confirmed!\n",
      "The file name is: March Of The Penguins\n",
      "The film title is:  March of the Penguins\n",
      "\n",
      "The release year is:  2005\n",
      "\n",
      "The director is:  Luc Jacquet\n",
      "\n",
      "The IMDB link is:  https://www.imdb.com/title/tt0428803/\n"
     ]
    },
    {
     "name": "stdin",
     "output_type": "stream",
     "text": [
      "\n",
      "Please confirm if this is the correct film by entering y/n (Press enter to skip):  y\n"
     ]
    },
    {
     "name": "stdout",
     "output_type": "stream",
     "text": [
      "Film confirmed!\n",
      "The file name is: To The Arctic\n",
      "The film title is:  To the Arctic 3D\n",
      "\n",
      "The release year is:  2012\n",
      "\n",
      "The director is:  Greg MacGillivray\n",
      "\n",
      "The IMDB link is:  https://www.imdb.com/title/tt2073128/\n"
     ]
    },
    {
     "name": "stdin",
     "output_type": "stream",
     "text": [
      "\n",
      "Please confirm if this is the correct film by entering y/n (Press enter to skip):  y\n"
     ]
    },
    {
     "name": "stdout",
     "output_type": "stream",
     "text": [
      "Film confirmed!\n",
      "The file name is: Media\n",
      "The film title is:  Media\n",
      "\n",
      "The release year is:  1980\n",
      "\n",
      "The director is:  Zbigniew Rybczynski\n",
      "\n",
      "The IMDB link is:  https://www.imdb.com/title/tt2998182/\n"
     ]
    },
    {
     "name": "stdin",
     "output_type": "stream",
     "text": [
      "\n",
      "Please confirm if this is the correct film by entering y/n (Press enter to skip):  n\n",
      "Please enter the correct imdb ID ONLY (Press enter to skip):  tt0234222\n"
     ]
    },
    {
     "name": "stdout",
     "output_type": "stream",
     "text": [
      "Film confirmed!\n",
      "The film title is:  Média\n",
      "\n",
      "The release year is:  2000\n",
      "\n",
      "The director is:  Pavel Koutský\n",
      "\n",
      "The IMDB link is:  https://www.imdb.com/title/tt0234222/\n",
      "The file name is: Monsters University\n",
      "The film title is:  Monsters University\n",
      "\n",
      "The release year is:  2013\n",
      "\n",
      "The director is:  Dan Scanlon\n",
      "\n",
      "The IMDB link is:  https://www.imdb.com/title/tt1453405/\n"
     ]
    },
    {
     "name": "stdin",
     "output_type": "stream",
     "text": [
      "\n",
      "Please confirm if this is the correct film by entering y/n (Press enter to skip):  y\n"
     ]
    },
    {
     "name": "stdout",
     "output_type": "stream",
     "text": [
      "Film confirmed!\n",
      "The file name is: Bless You\n",
      "The film title is:  Bless You\n",
      "\n",
      "The release year is:  2013\n",
      "\n",
      "The director is:  David Barlow-Krelina\n",
      "\n",
      "The IMDB link is:  https://www.imdb.com/title/tt3291718/\n"
     ]
    },
    {
     "name": "stdin",
     "output_type": "stream",
     "text": [
      "\n",
      "Please confirm if this is the correct film by entering y/n (Press enter to skip):  n\n",
      "Please enter the correct imdb ID ONLY (Press enter to skip):  tt2948806\n"
     ]
    },
    {
     "name": "stdout",
     "output_type": "stream",
     "text": [
      "Film confirmed!\n",
      "The film title is:  Bless You\n",
      "\n",
      "The release year is:  2013\n",
      "\n",
      "The director is:  Philip Watts\n",
      "\n",
      "The IMDB link is:  https://www.imdb.com/title/tt2948806/\n",
      "The file name is: We Keep on Dancing\n",
      "The film title is:  We Keep on Dancing\n",
      "\n",
      "The release year is:  2013\n",
      "\n",
      "The director is:  Jessica Barclay Lawton\n",
      "\n",
      "The IMDB link is:  https://www.imdb.com/title/tt2864952/\n"
     ]
    },
    {
     "name": "stdin",
     "output_type": "stream",
     "text": [
      "\n",
      "Please confirm if this is the correct film by entering y/n (Press enter to skip):  y\n"
     ]
    },
    {
     "name": "stdout",
     "output_type": "stream",
     "text": [
      "Film confirmed!\n",
      "The file name is: Lily\n",
      "The film title is:  Lily\n",
      "\n",
      "The release year is:  2013\n",
      "\n",
      "The director is:  Matt Creed\n",
      "\n",
      "The IMDB link is:  https://www.imdb.com/title/tt2707804/\n"
     ]
    },
    {
     "name": "stdin",
     "output_type": "stream",
     "text": [
      "\n",
      "Please confirm if this is the correct film by entering y/n (Press enter to skip):  y\n"
     ]
    },
    {
     "name": "stdout",
     "output_type": "stream",
     "text": [
      "Film confirmed!\n",
      "The file name is: Fracture\n",
      "The film title is:  Fracture\n",
      "\n",
      "The release year is:  2007\n",
      "\n",
      "The director is:  Gregory Hoblit\n",
      "\n",
      "The IMDB link is:  https://www.imdb.com/title/tt0488120/\n"
     ]
    },
    {
     "name": "stdin",
     "output_type": "stream",
     "text": [
      "\n",
      "Please confirm if this is the correct film by entering y/n (Press enter to skip):  y\n"
     ]
    },
    {
     "name": "stdout",
     "output_type": "stream",
     "text": [
      "Film confirmed!\n",
      "The file name is: The Bucket List\n",
      "The film title is:  The Bucket List\n",
      "\n",
      "The release year is:  2007\n",
      "\n",
      "The director is:  Rob Reiner\n",
      "\n",
      "The IMDB link is:  https://www.imdb.com/title/tt0825232/\n"
     ]
    },
    {
     "name": "stdin",
     "output_type": "stream",
     "text": [
      "\n",
      "Please confirm if this is the correct film by entering y/n (Press enter to skip):  y\n"
     ]
    },
    {
     "name": "stdout",
     "output_type": "stream",
     "text": [
      "Film confirmed!\n",
      "The file name is: The Lady in the Van\n",
      "The film title is:  The Lady in the Van\n",
      "\n",
      "The release year is:  2015\n",
      "\n",
      "The director is:  Nicholas Hytner\n",
      "\n",
      "The IMDB link is:  https://www.imdb.com/title/tt3722070/\n"
     ]
    },
    {
     "name": "stdin",
     "output_type": "stream",
     "text": [
      "\n",
      "Please confirm if this is the correct film by entering y/n (Press enter to skip):  y\n"
     ]
    },
    {
     "name": "stdout",
     "output_type": "stream",
     "text": [
      "Film confirmed!\n",
      "The file name is: Dissonance\n",
      "The film title is:  Dissonance\n",
      "\n",
      "The release year is:  2015\n",
      "\n",
      "The director is:  Till Nowak\n",
      "\n",
      "The IMDB link is:  https://www.imdb.com/title/tt4242936/\n"
     ]
    },
    {
     "name": "stdin",
     "output_type": "stream",
     "text": [
      "\n",
      "Please confirm if this is the correct film by entering y/n (Press enter to skip):  y\n"
     ]
    },
    {
     "name": "stdout",
     "output_type": "stream",
     "text": [
      "Film confirmed!\n",
      "The file name is: Chicken or the Egg\n",
      "The film title is:  Chicken or the Egg\n",
      "\n",
      "The release year is:  2013\n",
      "\n",
      "The director is:  Christine Kim, Elaine Wu\n",
      "\n",
      "The IMDB link is:  https://www.imdb.com/title/tt2825782/\n"
     ]
    },
    {
     "name": "stdin",
     "output_type": "stream",
     "text": [
      "\n",
      "Please confirm if this is the correct film by entering y/n (Press enter to skip):  y\n"
     ]
    },
    {
     "name": "stdout",
     "output_type": "stream",
     "text": [
      "Film confirmed!\n",
      "The file name is: The Oscar Nominated Short Animations 2017\n"
     ]
    },
    {
     "name": "stdin",
     "output_type": "stream",
     "text": [
      "Could not find the film. Please enter the correct imdb ID ONLY:  \n"
     ]
    },
    {
     "name": "stdout",
     "output_type": "stream",
     "text": [
      "The file name is: Suffragette\n",
      "The film title is:  Suffragette\n",
      "\n",
      "The release year is:  2015\n",
      "\n",
      "The director is:  Sarah Gavron\n",
      "\n",
      "The IMDB link is:  https://www.imdb.com/title/tt3077214/\n"
     ]
    },
    {
     "name": "stdin",
     "output_type": "stream",
     "text": [
      "\n",
      "Please confirm if this is the correct film by entering y/n (Press enter to skip):  y\n"
     ]
    },
    {
     "name": "stdout",
     "output_type": "stream",
     "text": [
      "Film confirmed!\n",
      "The file name is: Paper World\n",
      "The film title is:  Paper World\n",
      "\n",
      "The release year is:  2014\n",
      "\n",
      "The director is:  Dávid Ringeisen, László Ruska\n",
      "\n",
      "The IMDB link is:  https://www.imdb.com/title/tt3980004/\n"
     ]
    },
    {
     "name": "stdin",
     "output_type": "stream",
     "text": [
      "\n",
      "Please confirm if this is the correct film by entering y/n (Press enter to skip):  y\n"
     ]
    },
    {
     "name": "stdout",
     "output_type": "stream",
     "text": [
      "Film confirmed!\n",
      "The file name is: Little Boy\n",
      "The film title is:  Little Boy\n",
      "\n",
      "The release year is:  2015\n",
      "\n",
      "The director is:  Alejandro Monteverde\n",
      "\n",
      "The IMDB link is:  https://www.imdb.com/title/tt1810683/\n"
     ]
    },
    {
     "name": "stdin",
     "output_type": "stream",
     "text": [
      "\n",
      "Please confirm if this is the correct film by entering y/n (Press enter to skip):  y\n"
     ]
    },
    {
     "name": "stdout",
     "output_type": "stream",
     "text": [
      "Film confirmed!\n",
      "The file name is: Black Hawk Down\n",
      "The film title is:  Black Hawk Down\n",
      "\n",
      "The release year is:  2001\n",
      "\n",
      "The director is:  Ridley Scott\n",
      "\n",
      "The IMDB link is:  https://www.imdb.com/title/tt0265086/\n"
     ]
    },
    {
     "name": "stdin",
     "output_type": "stream",
     "text": [
      "\n",
      "Please confirm if this is the correct film by entering y/n (Press enter to skip):  y\n"
     ]
    },
    {
     "name": "stdout",
     "output_type": "stream",
     "text": [
      "Film confirmed!\n",
      "The file name is: Switch Man\n",
      "The film title is:  Switch Man\n",
      "\n",
      "The release year is:  2015\n",
      "\n",
      "The director is:  Hsun-Chun Chuang, Shao-Kuei Tong\n",
      "\n",
      "The IMDB link is:  https://www.imdb.com/title/tt4642884/\n"
     ]
    },
    {
     "name": "stdin",
     "output_type": "stream",
     "text": [
      "\n",
      "Please confirm if this is the correct film by entering y/n (Press enter to skip):  y\n"
     ]
    },
    {
     "name": "stdout",
     "output_type": "stream",
     "text": [
      "Film confirmed!\n",
      "The file name is: Tamara\n",
      "The film title is:  Tamara\n",
      "\n",
      "The release year is:  2005\n",
      "\n",
      "The director is:  Jeremy Haft\n",
      "\n",
      "The IMDB link is:  https://www.imdb.com/title/tt0401815/\n"
     ]
    },
    {
     "name": "stdin",
     "output_type": "stream",
     "text": [
      "\n",
      "Please confirm if this is the correct film by entering y/n (Press enter to skip):  n\n",
      "Please enter the correct imdb ID ONLY (Press enter to skip):  tt3212362\n"
     ]
    },
    {
     "name": "stdout",
     "output_type": "stream",
     "text": [
      "Film confirmed!\n",
      "The film title is:  Tamara\n",
      "\n",
      "The release year is:  2013\n",
      "\n",
      "The director is:  Craig Kitzmann, Jason Marino\n",
      "\n",
      "The IMDB link is:  https://www.imdb.com/title/tt3212362/\n",
      "The file name is: Matchstick Men\n",
      "The film title is:  Matchstick Men\n",
      "\n",
      "The release year is:  2003\n",
      "\n",
      "The director is:  Ridley Scott\n",
      "\n",
      "The IMDB link is:  https://www.imdb.com/title/tt0325805/\n"
     ]
    },
    {
     "name": "stdin",
     "output_type": "stream",
     "text": [
      "\n",
      "Please confirm if this is the correct film by entering y/n (Press enter to skip):  y\n"
     ]
    },
    {
     "name": "stdout",
     "output_type": "stream",
     "text": [
      "Film confirmed!\n",
      "The file name is: Alaska - Spirit of the Wild\n",
      "The film title is:  Alaska: Spirit of the Wild\n",
      "\n",
      "The release year is:  1997\n",
      "\n",
      "The director is:  George Casey\n",
      "\n",
      "The IMDB link is:  https://www.imdb.com/title/tt0130445/\n"
     ]
    },
    {
     "name": "stdin",
     "output_type": "stream",
     "text": [
      "\n",
      "Please confirm if this is the correct film by entering y/n (Press enter to skip):  y\n"
     ]
    },
    {
     "name": "stdout",
     "output_type": "stream",
     "text": [
      "Film confirmed!\n",
      "The file name is: Pinocchio\n",
      "The film title is:  Pinocchio\n",
      "\n",
      "The release year is:  1940\n",
      "\n",
      "The director is:  Norman Ferguson, T. Hee, Wilfred Jackson\n",
      "\n",
      "The IMDB link is:  https://www.imdb.com/title/tt0032910/\n"
     ]
    },
    {
     "name": "stdin",
     "output_type": "stream",
     "text": [
      "\n",
      "Please confirm if this is the correct film by entering y/n (Press enter to skip):  y\n"
     ]
    },
    {
     "name": "stdout",
     "output_type": "stream",
     "text": [
      "Film confirmed!\n",
      "The file name is: Glass Half\n",
      "The film title is:  Glass Half\n",
      "\n",
      "The release year is:  2015\n",
      "\n",
      "The director is:  Beorn Leonard\n",
      "\n",
      "The IMDB link is:  https://www.imdb.com/title/tt5243642/\n"
     ]
    },
    {
     "name": "stdin",
     "output_type": "stream",
     "text": [
      "\n",
      "Please confirm if this is the correct film by entering y/n (Press enter to skip):  y\n"
     ]
    },
    {
     "name": "stdout",
     "output_type": "stream",
     "text": [
      "Film confirmed!\n",
      "The file name is: Prey Alone\n",
      "The film title is:  Prey Alone\n",
      "\n",
      "The release year is:  2004\n",
      "\n",
      "The director is:  James Mather, Steve Saint Leger\n",
      "\n",
      "The IMDB link is:  https://www.imdb.com/title/tt0459124/\n"
     ]
    },
    {
     "name": "stdin",
     "output_type": "stream",
     "text": [
      "\n",
      "Please confirm if this is the correct film by entering y/n (Press enter to skip):  y\n"
     ]
    },
    {
     "name": "stdout",
     "output_type": "stream",
     "text": [
      "Film confirmed!\n",
      "The file name is: Nosferatu\n",
      "The film title is:  Nosferatu\n",
      "\n",
      "The release year is:  1922\n",
      "\n",
      "The director is:  F.W. Murnau\n",
      "\n",
      "The IMDB link is:  https://www.imdb.com/title/tt0013442/\n"
     ]
    },
    {
     "name": "stdin",
     "output_type": "stream",
     "text": [
      "\n",
      "Please confirm if this is the correct film by entering y/n (Press enter to skip):  y\n"
     ]
    },
    {
     "name": "stdout",
     "output_type": "stream",
     "text": [
      "Film confirmed!\n",
      "The file name is: Doodlebug\n",
      "The film title is:  Doodlebug\n",
      "\n",
      "The release year is:  1997\n",
      "\n",
      "The director is:  Christopher Nolan\n",
      "\n",
      "The IMDB link is:  https://www.imdb.com/title/tt0411302/\n"
     ]
    },
    {
     "name": "stdin",
     "output_type": "stream",
     "text": [
      "\n",
      "Please confirm if this is the correct film by entering y/n (Press enter to skip):  y\n"
     ]
    },
    {
     "name": "stdout",
     "output_type": "stream",
     "text": [
      "Film confirmed!\n",
      "The file name is: Klementhro\n",
      "The film title is:  Klementhro\n",
      "\n",
      "The release year is:  2015\n",
      "\n",
      "The director is:  Sue Dunham\n",
      "\n",
      "The IMDB link is:  https://www.imdb.com/title/tt6323668/\n"
     ]
    },
    {
     "name": "stdin",
     "output_type": "stream",
     "text": [
      "\n",
      "Please confirm if this is the correct film by entering y/n (Press enter to skip):  y\n"
     ]
    },
    {
     "name": "stdout",
     "output_type": "stream",
     "text": [
      "Film confirmed!\n",
      "The file name is: Mongol - The Rise Of Genghis Khan\n",
      "The film title is:  Mongol: The Rise of Genghis Khan\n",
      "\n",
      "The release year is:  2007\n",
      "\n",
      "The director is:  Sergei Bodrov\n",
      "\n",
      "The IMDB link is:  https://www.imdb.com/title/tt0416044/\n"
     ]
    },
    {
     "name": "stdin",
     "output_type": "stream",
     "text": [
      "\n",
      "Please confirm if this is the correct film by entering y/n (Press enter to skip):  y\n"
     ]
    },
    {
     "name": "stdout",
     "output_type": "stream",
     "text": [
      "Film confirmed!\n",
      "The file name is: Owning Mahowny\n",
      "The film title is:  Owning Mahowny\n",
      "\n",
      "The release year is:  2003\n",
      "\n",
      "The director is:  Richard Kwietniowski\n",
      "\n",
      "The IMDB link is:  https://www.imdb.com/title/tt0285861/\n"
     ]
    },
    {
     "name": "stdin",
     "output_type": "stream",
     "text": [
      "\n",
      "Please confirm if this is the correct film by entering y/n (Press enter to skip):  y\n"
     ]
    },
    {
     "name": "stdout",
     "output_type": "stream",
     "text": [
      "Film confirmed!\n",
      "The file name is: Aeroflip\n"
     ]
    },
    {
     "name": "stdin",
     "output_type": "stream",
     "text": [
      "Could not find the film. Please enter the correct imdb ID ONLY:  \n"
     ]
    },
    {
     "name": "stdout",
     "output_type": "stream",
     "text": [
      "The file name is: A Different Perspective\n",
      "The film title is:  A Different Perspective\n",
      "\n",
      "The release year is:  2012\n",
      "\n",
      "The director is:  Chris O'Hara\n",
      "\n",
      "The IMDB link is:  https://www.imdb.com/title/tt2246382/\n"
     ]
    },
    {
     "name": "stdin",
     "output_type": "stream",
     "text": [
      "\n",
      "Please confirm if this is the correct film by entering y/n (Press enter to skip):  y\n"
     ]
    },
    {
     "name": "stdout",
     "output_type": "stream",
     "text": [
      "Film confirmed!\n",
      "The file name is: A River Runs Through It\n",
      "The film title is:  A River Runs Through It\n",
      "\n",
      "The release year is:  1992\n",
      "\n",
      "The director is:  Robert Redford\n",
      "\n",
      "The IMDB link is:  https://www.imdb.com/title/tt0105265/\n"
     ]
    },
    {
     "name": "stdin",
     "output_type": "stream",
     "text": [
      "\n",
      "Please confirm if this is the correct film by entering y/n (Press enter to skip):  y\n"
     ]
    },
    {
     "name": "stdout",
     "output_type": "stream",
     "text": [
      "Film confirmed!\n",
      "The file name is: Citizenfour\n",
      "The film title is:  Citizenfour\n",
      "\n",
      "The release year is:  2014\n",
      "\n",
      "The director is:  Laura Poitras\n",
      "\n",
      "The IMDB link is:  https://www.imdb.com/title/tt4044364/\n"
     ]
    },
    {
     "name": "stdin",
     "output_type": "stream",
     "text": [
      "\n",
      "Please confirm if this is the correct film by entering y/n (Press enter to skip):  y\n"
     ]
    },
    {
     "name": "stdout",
     "output_type": "stream",
     "text": [
      "Film confirmed!\n",
      "The file name is: Mountain Cry\n",
      "The film title is:  Mountain Cry\n",
      "\n",
      "The release year is:  2015\n",
      "\n",
      "The director is:  Larry Yang\n",
      "\n",
      "The IMDB link is:  https://www.imdb.com/title/tt4170472/\n"
     ]
    },
    {
     "name": "stdin",
     "output_type": "stream",
     "text": [
      "\n",
      "Please confirm if this is the correct film by entering y/n (Press enter to skip):  y\n"
     ]
    },
    {
     "name": "stdout",
     "output_type": "stream",
     "text": [
      "Film confirmed!\n",
      "The file name is: If I Was God\n",
      "The film title is:  If I Was God...\n",
      "\n",
      "The release year is:  2015\n",
      "\n",
      "The director is:  Cordell Barker\n",
      "\n",
      "The IMDB link is:  https://www.imdb.com/title/tt5230188/\n"
     ]
    },
    {
     "name": "stdin",
     "output_type": "stream",
     "text": [
      "\n",
      "Please confirm if this is the correct film by entering y/n (Press enter to skip):  y\n"
     ]
    },
    {
     "name": "stdout",
     "output_type": "stream",
     "text": [
      "Film confirmed!\n",
      "The file name is: Fugu\n",
      "The film title is:  Fugu\n",
      "\n",
      "The release year is:  2018\n",
      "\n",
      "The director is:  Oleg Kiselevskiy, Vladislav Novozhilov\n",
      "\n",
      "The IMDB link is:  https://www.imdb.com/title/tt14900270/\n"
     ]
    },
    {
     "name": "stdin",
     "output_type": "stream",
     "text": [
      "\n",
      "Please confirm if this is the correct film by entering y/n (Press enter to skip):  \n"
     ]
    },
    {
     "name": "stdout",
     "output_type": "stream",
     "text": [
      "The file name is: Benigni\n",
      "The film title is:  Benigni\n",
      "\n",
      "The release year is:  2009\n",
      "\n",
      "The director is:  Jasmiini Ottelin, Pinja Partanen, Elli Vuorinen\n",
      "\n",
      "The IMDB link is:  https://www.imdb.com/title/tt2233983/\n"
     ]
    },
    {
     "name": "stdin",
     "output_type": "stream",
     "text": [
      "\n",
      "Please confirm if this is the correct film by entering y/n (Press enter to skip):  y\n"
     ]
    },
    {
     "name": "stdout",
     "output_type": "stream",
     "text": [
      "Film confirmed!\n",
      "The file name is: Gattaca\n",
      "The film title is:  Gattaca\n",
      "\n",
      "The release year is:  1997\n",
      "\n",
      "The director is:  Andrew Niccol\n",
      "\n",
      "The IMDB link is:  https://www.imdb.com/title/tt0119177/\n"
     ]
    },
    {
     "name": "stdin",
     "output_type": "stream",
     "text": [
      "\n",
      "Please confirm if this is the correct film by entering y/n (Press enter to skip):  y\n"
     ]
    },
    {
     "name": "stdout",
     "output_type": "stream",
     "text": [
      "Film confirmed!\n",
      "The file name is: District 9\n",
      "The film title is:  District 9\n",
      "\n",
      "The release year is:  2009\n",
      "\n",
      "The director is:  Neill Blomkamp\n",
      "\n",
      "The IMDB link is:  https://www.imdb.com/title/tt1136608/\n"
     ]
    },
    {
     "name": "stdin",
     "output_type": "stream",
     "text": [
      "\n",
      "Please confirm if this is the correct film by entering y/n (Press enter to skip):  y\n"
     ]
    },
    {
     "name": "stdout",
     "output_type": "stream",
     "text": [
      "Film confirmed!\n",
      "The file name is: Champs\n",
      "The film title is:  Champs\n",
      "\n",
      "The release year is:  2014\n",
      "\n",
      "The director is:  Bert Marcus\n",
      "\n",
      "The IMDB link is:  https://www.imdb.com/title/tt1698652/\n"
     ]
    },
    {
     "name": "stdin",
     "output_type": "stream",
     "text": [
      "\n",
      "Please confirm if this is the correct film by entering y/n (Press enter to skip):  y\n"
     ]
    },
    {
     "name": "stdout",
     "output_type": "stream",
     "text": [
      "Film confirmed!\n",
      "The file name is: Every Child\n",
      "The film title is:  Every Child\n",
      "\n",
      "The release year is:  1979\n",
      "\n",
      "The director is:  Eugene Fedorenko\n",
      "\n",
      "The IMDB link is:  https://www.imdb.com/title/tt0079126/\n"
     ]
    },
    {
     "name": "stdin",
     "output_type": "stream",
     "text": [
      "\n",
      "Please confirm if this is the correct film by entering y/n (Press enter to skip):  y\n"
     ]
    },
    {
     "name": "stdout",
     "output_type": "stream",
     "text": [
      "Film confirmed!\n",
      "The file name is: Racing Extinction\n",
      "The film title is:  Racing Extinction\n",
      "\n",
      "The release year is:  2015\n",
      "\n",
      "The director is:  Louie Psihoyos\n",
      "\n",
      "The IMDB link is:  https://www.imdb.com/title/tt1618448/\n"
     ]
    },
    {
     "name": "stdin",
     "output_type": "stream",
     "text": [
      "\n",
      "Please confirm if this is the correct film by entering y/n (Press enter to skip):  y\n"
     ]
    },
    {
     "name": "stdout",
     "output_type": "stream",
     "text": [
      "Film confirmed!\n",
      "The file name is: Tangled Ever After\n",
      "The film title is:  Tangled Ever After\n",
      "\n",
      "The release year is:  2012\n",
      "\n",
      "The director is:  Nathan Greno, Byron Howard\n",
      "\n",
      "The IMDB link is:  https://www.imdb.com/title/tt2112281/\n"
     ]
    },
    {
     "name": "stdin",
     "output_type": "stream",
     "text": [
      "\n",
      "Please confirm if this is the correct film by entering y/n (Press enter to skip):  y\n"
     ]
    },
    {
     "name": "stdout",
     "output_type": "stream",
     "text": [
      "Film confirmed!\n",
      "The file name is: Then She Found Me\n",
      "The film title is:  Then She Found Me\n",
      "\n",
      "The release year is:  2007\n",
      "\n",
      "The director is:  Helen Hunt\n",
      "\n",
      "The IMDB link is:  https://www.imdb.com/title/tt0455805/\n"
     ]
    },
    {
     "name": "stdin",
     "output_type": "stream",
     "text": [
      "\n",
      "Please confirm if this is the correct film by entering y/n (Press enter to skip):  y\n"
     ]
    },
    {
     "name": "stdout",
     "output_type": "stream",
     "text": [
      "Film confirmed!\n",
      "The file name is: The Human Race\n",
      "The film title is:  The Human Race\n",
      "\n",
      "The release year is:  2013\n",
      "\n",
      "The director is:  Paul Hough\n",
      "\n",
      "The IMDB link is:  https://www.imdb.com/title/tt1427298/\n"
     ]
    },
    {
     "name": "stdin",
     "output_type": "stream",
     "text": [
      "\n",
      "Please confirm if this is the correct film by entering y/n (Press enter to skip):  y\n"
     ]
    },
    {
     "name": "stdout",
     "output_type": "stream",
     "text": [
      "Film confirmed!\n",
      "The file name is: Stardust\n",
      "The film title is:  Stardust\n",
      "\n",
      "The release year is:  2007\n",
      "\n",
      "The director is:  Matthew Vaughn\n",
      "\n",
      "The IMDB link is:  https://www.imdb.com/title/tt0486655/\n"
     ]
    },
    {
     "name": "stdin",
     "output_type": "stream",
     "text": [
      "\n",
      "Please confirm if this is the correct film by entering y/n (Press enter to skip):  y\n"
     ]
    },
    {
     "name": "stdout",
     "output_type": "stream",
     "text": [
      "Film confirmed!\n",
      "The file name is: Kung Fu Panda 3\n",
      "The film title is:  Kung Fu Panda 3\n",
      "\n",
      "The release year is:  2016\n",
      "\n",
      "The director is:  Alessandro Carloni, Jennifer Yuh Nelson\n",
      "\n",
      "The IMDB link is:  https://www.imdb.com/title/tt2267968/\n"
     ]
    },
    {
     "name": "stdin",
     "output_type": "stream",
     "text": [
      "\n",
      "Please confirm if this is the correct film by entering y/n (Press enter to skip):  y\n"
     ]
    },
    {
     "name": "stdout",
     "output_type": "stream",
     "text": [
      "Film confirmed!\n",
      "The file name is: Shake! Otis At Monterey\n"
     ]
    },
    {
     "name": "stdin",
     "output_type": "stream",
     "text": [
      "Could not find the film. Please enter the correct imdb ID ONLY:  tt0093951\n"
     ]
    },
    {
     "name": "stdout",
     "output_type": "stream",
     "text": [
      "The film title is:  Shake!: Otis at Monterey\n",
      "\n",
      "The release year is:  1987\n",
      "\n",
      "The director is:  David Dawkins, Chris Hegedus, D.A. Pennebaker\n",
      "\n",
      "The IMDB link is:  https://www.imdb.com/title/tt0093951/\n",
      "Film confirmed!\n",
      "The file name is: Another\n",
      "The film title is:  Another\n",
      "\n",
      "The release year is:  2012\n",
      "\n",
      "The director is:  N/A\n",
      "\n",
      "The IMDB link is:  https://www.imdb.com/title/tt2176165/\n"
     ]
    },
    {
     "name": "stdin",
     "output_type": "stream",
     "text": [
      "\n",
      "Please confirm if this is the correct film by entering y/n (Press enter to skip):  n\n",
      "Please enter the correct imdb ID ONLY (Press enter to skip):  tt2556636\n"
     ]
    },
    {
     "name": "stdout",
     "output_type": "stream",
     "text": [
      "Film confirmed!\n",
      "The film title is:  Another\n",
      "\n",
      "The release year is:  2012\n",
      "\n",
      "The director is:  Sean Buckelew\n",
      "\n",
      "The IMDB link is:  https://www.imdb.com/title/tt2556636/\n",
      "The file name is: Rob n Ron\n",
      "The film title is:  Rob 'n Ron\n",
      "\n",
      "The release year is:  2013\n",
      "\n",
      "The director is:  Magnus Igland Møller, Peter Smith\n",
      "\n",
      "The IMDB link is:  https://www.imdb.com/title/tt2932516/\n"
     ]
    },
    {
     "name": "stdin",
     "output_type": "stream",
     "text": [
      "\n",
      "Please confirm if this is the correct film by entering y/n (Press enter to skip):  y\n"
     ]
    },
    {
     "name": "stdout",
     "output_type": "stream",
     "text": [
      "Film confirmed!\n",
      "The file name is: Fed Up\n",
      "The film title is:  Fed Up\n",
      "\n",
      "The release year is:  2014\n",
      "\n",
      "The director is:  Stephanie Soechtig\n",
      "\n",
      "The IMDB link is:  https://www.imdb.com/title/tt2381335/\n"
     ]
    },
    {
     "name": "stdin",
     "output_type": "stream",
     "text": [
      "\n",
      "Please confirm if this is the correct film by entering y/n (Press enter to skip):  y\n"
     ]
    },
    {
     "name": "stdout",
     "output_type": "stream",
     "text": [
      "Film confirmed!\n",
      "The file name is: Monday\n",
      "The film title is:  Monday\n",
      "\n",
      "The release year is:  2020\n",
      "\n",
      "The director is:  Argyris Papadimitropoulos\n",
      "\n",
      "The IMDB link is:  https://www.imdb.com/title/tt8884906/\n"
     ]
    },
    {
     "name": "stdin",
     "output_type": "stream",
     "text": [
      "\n",
      "Please confirm if this is the correct film by entering y/n (Press enter to skip):  \n"
     ]
    },
    {
     "name": "stdout",
     "output_type": "stream",
     "text": [
      "The file name is: Sin City - A Dame to Kill For\n",
      "The film title is:  Sin City: A Dame to Kill For\n",
      "\n",
      "The release year is:  2014\n",
      "\n",
      "The director is:  Frank Miller, Robert Rodriguez\n",
      "\n",
      "The IMDB link is:  https://www.imdb.com/title/tt0458481/\n"
     ]
    },
    {
     "name": "stdin",
     "output_type": "stream",
     "text": [
      "\n",
      "Please confirm if this is the correct film by entering y/n (Press enter to skip):  y\n"
     ]
    },
    {
     "name": "stdout",
     "output_type": "stream",
     "text": [
      "Film confirmed!\n",
      "The file name is: Embrace of the Serpent\n",
      "The film title is:  Embrace of the Serpent\n",
      "\n",
      "The release year is:  2015\n",
      "\n",
      "The director is:  Ciro Guerra\n",
      "\n",
      "The IMDB link is:  https://www.imdb.com/title/tt4285496/\n"
     ]
    },
    {
     "name": "stdin",
     "output_type": "stream",
     "text": [
      "\n",
      "Please confirm if this is the correct film by entering y/n (Press enter to skip):  y\n"
     ]
    },
    {
     "name": "stdout",
     "output_type": "stream",
     "text": [
      "Film confirmed!\n",
      "The file name is: Looking for Eric\n",
      "The film title is:  Looking for Eric\n",
      "\n",
      "The release year is:  2009\n",
      "\n",
      "The director is:  Ken Loach\n",
      "\n",
      "The IMDB link is:  https://www.imdb.com/title/tt1242545/\n"
     ]
    },
    {
     "name": "stdin",
     "output_type": "stream",
     "text": [
      "\n",
      "Please confirm if this is the correct film by entering y/n (Press enter to skip):  y\n"
     ]
    },
    {
     "name": "stdout",
     "output_type": "stream",
     "text": [
      "Film confirmed!\n",
      "The file name is: The Great Gatsby\n",
      "The film title is:  The Great Gatsby\n",
      "\n",
      "The release year is:  2013\n",
      "\n",
      "The director is:  Baz Luhrmann\n",
      "\n",
      "The IMDB link is:  https://www.imdb.com/title/tt1343092/\n"
     ]
    },
    {
     "name": "stdin",
     "output_type": "stream",
     "text": [
      "\n",
      "Please confirm if this is the correct film by entering y/n (Press enter to skip):  y\n"
     ]
    },
    {
     "name": "stdout",
     "output_type": "stream",
     "text": [
      "Film confirmed!\n",
      "The file name is: Share\n",
      "The film title is:  Share\n",
      "\n",
      "The release year is:  2019\n",
      "\n",
      "The director is:  Pippa Bianco\n",
      "\n",
      "The IMDB link is:  https://www.imdb.com/title/tt7007696/\n"
     ]
    },
    {
     "name": "stdin",
     "output_type": "stream",
     "text": [
      "\n",
      "Please confirm if this is the correct film by entering y/n (Press enter to skip):  n\n",
      "Please enter the correct imdb ID ONLY (Press enter to skip):  tt4266370\n"
     ]
    },
    {
     "name": "stdout",
     "output_type": "stream",
     "text": [
      "Film confirmed!\n",
      "The film title is:  Share\n",
      "\n",
      "The release year is:  2015\n",
      "\n",
      "The director is:  Pippa Bianco\n",
      "\n",
      "The IMDB link is:  https://www.imdb.com/title/tt4266370/\n",
      "The file name is: Charade\n",
      "The film title is:  Charade\n",
      "\n",
      "The release year is:  1963\n",
      "\n",
      "The director is:  Stanley Donen\n",
      "\n",
      "The IMDB link is:  https://www.imdb.com/title/tt0056923/\n"
     ]
    },
    {
     "name": "stdin",
     "output_type": "stream",
     "text": [
      "\n",
      "Please confirm if this is the correct film by entering y/n (Press enter to skip):  y\n"
     ]
    },
    {
     "name": "stdout",
     "output_type": "stream",
     "text": [
      "Film confirmed!\n",
      "The file name is: Belle\n",
      "The film title is:  Belle\n",
      "\n",
      "The release year is:  2013\n",
      "\n",
      "The director is:  Amma Asante\n",
      "\n",
      "The IMDB link is:  https://www.imdb.com/title/tt2404181/\n"
     ]
    },
    {
     "name": "stdin",
     "output_type": "stream",
     "text": [
      "\n",
      "Please confirm if this is the correct film by entering y/n (Press enter to skip):  y\n"
     ]
    },
    {
     "name": "stdout",
     "output_type": "stream",
     "text": [
      "Film confirmed!\n",
      "The file name is: Once Upon a Time in the West\n",
      "The film title is:  Once Upon a Time in the West\n",
      "\n",
      "The release year is:  1968\n",
      "\n",
      "The director is:  Sergio Leone\n",
      "\n",
      "The IMDB link is:  https://www.imdb.com/title/tt0064116/\n"
     ]
    },
    {
     "name": "stdin",
     "output_type": "stream",
     "text": [
      "\n",
      "Please confirm if this is the correct film by entering y/n (Press enter to skip):  y\n"
     ]
    },
    {
     "name": "stdout",
     "output_type": "stream",
     "text": [
      "Film confirmed!\n",
      "The file name is: Finding Neverland\n",
      "The film title is:  Finding Neverland\n",
      "\n",
      "The release year is:  2004\n",
      "\n",
      "The director is:  Marc Forster\n",
      "\n",
      "The IMDB link is:  https://www.imdb.com/title/tt0308644/\n"
     ]
    },
    {
     "name": "stdin",
     "output_type": "stream",
     "text": [
      "\n",
      "Please confirm if this is the correct film by entering y/n (Press enter to skip):  y\n"
     ]
    },
    {
     "name": "stdout",
     "output_type": "stream",
     "text": [
      "Film confirmed!\n",
      "The file name is: lxiv\n"
     ]
    },
    {
     "name": "stdin",
     "output_type": "stream",
     "text": [
      "Could not find the film. Please enter the correct imdb ID ONLY:  \n"
     ]
    },
    {
     "name": "stdout",
     "output_type": "stream",
     "text": [
      "The file name is: Tale Of A Lake\n",
      "The film title is:  Tale of a Lake\n",
      "\n",
      "The release year is:  2016\n",
      "\n",
      "The director is:  Marko Röhr, Kim Saarniluoto\n",
      "\n",
      "The IMDB link is:  https://www.imdb.com/title/tt3744428/\n"
     ]
    },
    {
     "name": "stdin",
     "output_type": "stream",
     "text": [
      "\n",
      "Please confirm if this is the correct film by entering y/n (Press enter to skip):  y\n"
     ]
    },
    {
     "name": "stdout",
     "output_type": "stream",
     "text": [
      "Film confirmed!\n",
      "The file name is: Boy and the World\n",
      "The film title is:  The Boy and the World\n",
      "\n",
      "The release year is:  2013\n",
      "\n",
      "The director is:  Alê Abreu\n",
      "\n",
      "The IMDB link is:  https://www.imdb.com/title/tt3183630/\n"
     ]
    },
    {
     "name": "stdin",
     "output_type": "stream",
     "text": [
      "\n",
      "Please confirm if this is the correct film by entering y/n (Press enter to skip):  y\n"
     ]
    },
    {
     "name": "stdout",
     "output_type": "stream",
     "text": [
      "Film confirmed!\n",
      "The file name is: Sanjay's Super Team\n",
      "The film title is:  Sanjay's Super Team\n",
      "\n",
      "The release year is:  2015\n",
      "\n",
      "The director is:  Sanjay Patel\n",
      "\n",
      "The IMDB link is:  https://www.imdb.com/title/tt4661600/\n"
     ]
    },
    {
     "name": "stdin",
     "output_type": "stream",
     "text": [
      "\n",
      "Please confirm if this is the correct film by entering y/n (Press enter to skip):  y\n"
     ]
    },
    {
     "name": "stdout",
     "output_type": "stream",
     "text": [
      "Film confirmed!\n",
      "The file name is: Slow West\n",
      "The film title is:  Slow West\n",
      "\n",
      "The release year is:  2015\n",
      "\n",
      "The director is:  John Maclean\n",
      "\n",
      "The IMDB link is:  https://www.imdb.com/title/tt3205376/\n"
     ]
    },
    {
     "name": "stdin",
     "output_type": "stream",
     "text": [
      "\n",
      "Please confirm if this is the correct film by entering y/n (Press enter to skip):  y\n"
     ]
    },
    {
     "name": "stdout",
     "output_type": "stream",
     "text": [
      "Film confirmed!\n",
      "The file name is: Edmond Was a Donkey\n",
      "The film title is:  Edmond Was a Donkey\n",
      "\n",
      "The release year is:  2012\n",
      "\n",
      "The director is:  Franck Dion\n",
      "\n",
      "The IMDB link is:  https://www.imdb.com/title/tt2159990/\n"
     ]
    },
    {
     "name": "stdin",
     "output_type": "stream",
     "text": [
      "\n",
      "Please confirm if this is the correct film by entering y/n (Press enter to skip):  y\n"
     ]
    },
    {
     "name": "stdout",
     "output_type": "stream",
     "text": [
      "Film confirmed!\n",
      "The file name is: Dead Poets Society\n",
      "The film title is:  Dead Poets Society\n",
      "\n",
      "The release year is:  1989\n",
      "\n",
      "The director is:  Peter Weir\n",
      "\n",
      "The IMDB link is:  https://www.imdb.com/title/tt0097165/\n"
     ]
    },
    {
     "name": "stdin",
     "output_type": "stream",
     "text": [
      "\n",
      "Please confirm if this is the correct film by entering y/n (Press enter to skip):  y\n"
     ]
    },
    {
     "name": "stdout",
     "output_type": "stream",
     "text": [
      "Film confirmed!\n",
      "The file name is: Riddick\n",
      "The film title is:  Riddick\n",
      "\n",
      "The release year is:  2013\n",
      "\n",
      "The director is:  David Twohy\n",
      "\n",
      "The IMDB link is:  https://www.imdb.com/title/tt1411250/\n"
     ]
    },
    {
     "name": "stdin",
     "output_type": "stream",
     "text": [
      "\n",
      "Please confirm if this is the correct film by entering y/n (Press enter to skip):  y\n"
     ]
    },
    {
     "name": "stdout",
     "output_type": "stream",
     "text": [
      "Film confirmed!\n",
      "The file name is: Spotlight\n",
      "The film title is:  Spotlight\n",
      "\n",
      "The release year is:  2015\n",
      "\n",
      "The director is:  Tom McCarthy\n",
      "\n",
      "The IMDB link is:  https://www.imdb.com/title/tt1895587/\n"
     ]
    },
    {
     "name": "stdin",
     "output_type": "stream",
     "text": [
      "\n",
      "Please confirm if this is the correct film by entering y/n (Press enter to skip):  y\n"
     ]
    },
    {
     "name": "stdout",
     "output_type": "stream",
     "text": [
      "Film confirmed!\n",
      "The file name is: Slow Wave\n",
      "The film title is:  Slow Wave\n",
      "\n",
      "The release year is:  2014\n",
      "\n",
      "The director is:  Brett Bentman\n",
      "\n",
      "The IMDB link is:  https://www.imdb.com/title/tt3704734/\n"
     ]
    },
    {
     "name": "stdin",
     "output_type": "stream",
     "text": [
      "\n",
      "Please confirm if this is the correct film by entering y/n (Press enter to skip):  \n"
     ]
    },
    {
     "name": "stdout",
     "output_type": "stream",
     "text": [
      "The file name is: Alive Inside\n",
      "The film title is:  Alive Inside\n",
      "\n",
      "The release year is:  2013\n",
      "\n",
      "The director is:  Marty Portillo\n",
      "\n",
      "The IMDB link is:  https://www.imdb.com/title/tt4229434/\n"
     ]
    },
    {
     "name": "stdin",
     "output_type": "stream",
     "text": [
      "\n",
      "Please confirm if this is the correct film by entering y/n (Press enter to skip):  n\n",
      "Please enter the correct imdb ID ONLY (Press enter to skip):  tt2593392\n"
     ]
    },
    {
     "name": "stdout",
     "output_type": "stream",
     "text": [
      "Film confirmed!\n",
      "The film title is:  Alive Inside: A Story of Music and Memory\n",
      "\n",
      "The release year is:  2014\n",
      "\n",
      "The director is:  Michael Rossato-Bennett\n",
      "\n",
      "The IMDB link is:  https://www.imdb.com/title/tt2593392/\n",
      "The file name is: Whole\n",
      "The film title is:  Whole\n",
      "\n",
      "The release year is:  2003\n",
      "\n",
      "The director is:  Melody Gilbert\n",
      "\n",
      "The IMDB link is:  https://www.imdb.com/title/tt0429245/\n"
     ]
    },
    {
     "name": "stdin",
     "output_type": "stream",
     "text": [
      "\n",
      "Please confirm if this is the correct film by entering y/n (Press enter to skip):  n\n",
      "Please enter the correct imdb ID ONLY (Press enter to skip):  tt3906044\n"
     ]
    },
    {
     "name": "stdout",
     "output_type": "stream",
     "text": [
      "Film confirmed!\n",
      "The film title is:  Whole\n",
      "\n",
      "The release year is:  2014\n",
      "\n",
      "The director is:  William Reynish\n",
      "\n",
      "The IMDB link is:  https://www.imdb.com/title/tt3906044/\n",
      "The file name is: Selma\n",
      "The film title is:  Selma\n",
      "\n",
      "The release year is:  2014\n",
      "\n",
      "The director is:  Ava DuVernay\n",
      "\n",
      "The IMDB link is:  https://www.imdb.com/title/tt1020072/\n"
     ]
    },
    {
     "name": "stdin",
     "output_type": "stream",
     "text": [
      "\n",
      "Please confirm if this is the correct film by entering y/n (Press enter to skip):  y\n"
     ]
    },
    {
     "name": "stdout",
     "output_type": "stream",
     "text": [
      "Film confirmed!\n",
      "The file name is: Mary Shelley's Frankenstein\n",
      "The film title is:  Mary Shelley's Frankenstein\n",
      "\n",
      "The release year is:  1994\n",
      "\n",
      "The director is:  Kenneth Branagh\n",
      "\n",
      "The IMDB link is:  https://www.imdb.com/title/tt0109836/\n"
     ]
    },
    {
     "name": "stdin",
     "output_type": "stream",
     "text": [
      "\n",
      "Please confirm if this is the correct film by entering y/n (Press enter to skip):  y\n"
     ]
    },
    {
     "name": "stdout",
     "output_type": "stream",
     "text": [
      "Film confirmed!\n",
      "The file name is: Prologue\n",
      "The film title is:  Prologue\n",
      "\n",
      "The release year is:  2015\n",
      "\n",
      "The director is:  Richard Williams\n",
      "\n",
      "The IMDB link is:  https://www.imdb.com/title/tt4955294/\n"
     ]
    },
    {
     "name": "stdin",
     "output_type": "stream",
     "text": [
      "\n",
      "Please confirm if this is the correct film by entering y/n (Press enter to skip):  y\n"
     ]
    },
    {
     "name": "stdout",
     "output_type": "stream",
     "text": [
      "Film confirmed!\n",
      "The file name is: The Danish Girl\n",
      "The film title is:  The Danish Girl\n",
      "\n",
      "The release year is:  2015\n",
      "\n",
      "The director is:  Tom Hooper\n",
      "\n",
      "The IMDB link is:  https://www.imdb.com/title/tt0810819/\n"
     ]
    },
    {
     "name": "stdin",
     "output_type": "stream",
     "text": [
      "\n",
      "Please confirm if this is the correct film by entering y/n (Press enter to skip):  y\n"
     ]
    },
    {
     "name": "stdout",
     "output_type": "stream",
     "text": [
      "Film confirmed!\n",
      "The file name is: The Angriest Man in Brooklyn\n",
      "The film title is:  The Angriest Man in Brooklyn\n",
      "\n",
      "The release year is:  2014\n",
      "\n",
      "The director is:  Phil Alden Robinson\n",
      "\n",
      "The IMDB link is:  https://www.imdb.com/title/tt1294970/\n"
     ]
    },
    {
     "name": "stdin",
     "output_type": "stream",
     "text": [
      "\n",
      "Please confirm if this is the correct film by entering y/n (Press enter to skip):  y\n"
     ]
    },
    {
     "name": "stdout",
     "output_type": "stream",
     "text": [
      "Film confirmed!\n",
      "The file name is: Philomena\n",
      "The film title is:  Philomena\n",
      "\n",
      "The release year is:  2013\n",
      "\n",
      "The director is:  Stephen Frears\n",
      "\n",
      "The IMDB link is:  https://www.imdb.com/title/tt2431286/\n"
     ]
    },
    {
     "name": "stdin",
     "output_type": "stream",
     "text": [
      "\n",
      "Please confirm if this is the correct film by entering y/n (Press enter to skip):  y\n"
     ]
    },
    {
     "name": "stdout",
     "output_type": "stream",
     "text": [
      "Film confirmed!\n",
      "The file name is: Antarctica - An adventure of a Different Nature\n"
     ]
    },
    {
     "name": "stdin",
     "output_type": "stream",
     "text": [
      "Could not find the film. Please enter the correct imdb ID ONLY:  tt0101357\n"
     ]
    },
    {
     "name": "stdout",
     "output_type": "stream",
     "text": [
      "The film title is:  Antarctica\n",
      "\n",
      "The release year is:  1991\n",
      "\n",
      "The director is:  John Weiley\n",
      "\n",
      "The IMDB link is:  https://www.imdb.com/title/tt0101357/\n",
      "Film confirmed!\n",
      "The file name is: Chasing Ice\n",
      "The film title is:  Chasing Ice\n",
      "\n",
      "The release year is:  2012\n",
      "\n",
      "The director is:  Jeff Orlowski-Yang\n",
      "\n",
      "The IMDB link is:  https://www.imdb.com/title/tt1579361/\n"
     ]
    },
    {
     "name": "stdin",
     "output_type": "stream",
     "text": [
      "\n",
      "Please confirm if this is the correct film by entering y/n (Press enter to skip):  y\n"
     ]
    },
    {
     "name": "stdout",
     "output_type": "stream",
     "text": [
      "Film confirmed!\n",
      "The file name is: Oru Burus\n",
      "The film title is:  Oru burus\n",
      "\n",
      "The release year is:  2012\n",
      "\n",
      "The director is:  Anton Brand, Guillaume Klein, Charlotte Quillet\n",
      "\n",
      "The IMDB link is:  https://www.imdb.com/title/tt3331646/\n"
     ]
    },
    {
     "name": "stdin",
     "output_type": "stream",
     "text": [
      "\n",
      "Please confirm if this is the correct film by entering y/n (Press enter to skip):  y\n"
     ]
    },
    {
     "name": "stdout",
     "output_type": "stream",
     "text": [
      "Film confirmed!\n",
      "The file name is: Super Size Me\n",
      "The film title is:  Super Size Me\n",
      "\n",
      "The release year is:  2004\n",
      "\n",
      "The director is:  Morgan Spurlock\n",
      "\n",
      "The IMDB link is:  https://www.imdb.com/title/tt0390521/\n"
     ]
    },
    {
     "name": "stdin",
     "output_type": "stream",
     "text": [
      "\n",
      "Please confirm if this is the correct film by entering y/n (Press enter to skip):  y\n"
     ]
    },
    {
     "name": "stdout",
     "output_type": "stream",
     "text": [
      "Film confirmed!\n",
      "The file name is: Amazon\n",
      "The film title is:  Amazon\n",
      "\n",
      "The release year is:  2013\n",
      "\n",
      "The director is:  Thierry Ragobert\n",
      "\n",
      "The IMDB link is:  https://www.imdb.com/title/tt1240899/\n"
     ]
    },
    {
     "name": "stdin",
     "output_type": "stream",
     "text": [
      "\n",
      "Please confirm if this is the correct film by entering y/n (Press enter to skip):  \n"
     ]
    },
    {
     "name": "stdout",
     "output_type": "stream",
     "text": [
      "The file name is: Marley\n",
      "The film title is:  Marley\n",
      "\n",
      "The release year is:  2012\n",
      "\n",
      "The director is:  Kevin Macdonald\n",
      "\n",
      "The IMDB link is:  https://www.imdb.com/title/tt1183919/\n"
     ]
    },
    {
     "name": "stdin",
     "output_type": "stream",
     "text": [
      "\n",
      "Please confirm if this is the correct film by entering y/n (Press enter to skip):  y\n"
     ]
    },
    {
     "name": "stdout",
     "output_type": "stream",
     "text": [
      "Film confirmed!\n",
      "The file name is: The Lake House\n",
      "The film title is:  The Lake House\n",
      "\n",
      "The release year is:  2006\n",
      "\n",
      "The director is:  Alejandro Agresti\n",
      "\n",
      "The IMDB link is:  https://www.imdb.com/title/tt0410297/\n"
     ]
    },
    {
     "name": "stdin",
     "output_type": "stream",
     "text": [
      "\n",
      "Please confirm if this is the correct film by entering y/n (Press enter to skip):  y\n"
     ]
    },
    {
     "name": "stdout",
     "output_type": "stream",
     "text": [
      "Film confirmed!\n",
      "The file name is: New York, I Love You\n",
      "The film title is:  New York, I Love You\n",
      "\n",
      "The release year is:  2008\n",
      "\n",
      "The director is:  Fatih Akin, Yvan Attal, Randall Balsmeyer\n",
      "\n",
      "The IMDB link is:  https://www.imdb.com/title/tt0808399/\n"
     ]
    },
    {
     "name": "stdin",
     "output_type": "stream",
     "text": [
      "\n",
      "Please confirm if this is the correct film by entering y/n (Press enter to skip):  y\n"
     ]
    },
    {
     "name": "stdout",
     "output_type": "stream",
     "text": [
      "Film confirmed!\n",
      "The file name is: Do I Have Power\n"
     ]
    },
    {
     "name": "stdin",
     "output_type": "stream",
     "text": [
      "Could not find the film. Please enter the correct imdb ID ONLY:  \n"
     ]
    },
    {
     "name": "stdout",
     "output_type": "stream",
     "text": [
      "The file name is: Move Mountain\n",
      "The film title is:  Move Mountain\n",
      "\n",
      "The release year is:  2013\n",
      "\n",
      "The director is:  Kirsten Lepore\n",
      "\n",
      "The IMDB link is:  https://www.imdb.com/title/tt2798660/\n"
     ]
    },
    {
     "name": "stdin",
     "output_type": "stream",
     "text": [
      "\n",
      "Please confirm if this is the correct film by entering y/n (Press enter to skip):  y\n"
     ]
    },
    {
     "name": "stdout",
     "output_type": "stream",
     "text": [
      "Film confirmed!\n",
      "The file name is: The Big Short\n",
      "The film title is:  The Big Short\n",
      "\n",
      "The release year is:  2015\n",
      "\n",
      "The director is:  Adam McKay\n",
      "\n",
      "The IMDB link is:  https://www.imdb.com/title/tt1596363/\n"
     ]
    },
    {
     "name": "stdin",
     "output_type": "stream",
     "text": [
      "\n",
      "Please confirm if this is the correct film by entering y/n (Press enter to skip):  y\n"
     ]
    },
    {
     "name": "stdout",
     "output_type": "stream",
     "text": [
      "Film confirmed!\n",
      "The file name is: Nocturnal Animals\n",
      "The film title is:  Nocturnal Animals\n",
      "\n",
      "The release year is:  2016\n",
      "\n",
      "The director is:  Tom Ford\n",
      "\n",
      "The IMDB link is:  https://www.imdb.com/title/tt4550098/\n"
     ]
    },
    {
     "name": "stdin",
     "output_type": "stream",
     "text": [
      "\n",
      "Please confirm if this is the correct film by entering y/n (Press enter to skip):  y\n"
     ]
    },
    {
     "name": "stdout",
     "output_type": "stream",
     "text": [
      "Film confirmed!\n",
      "The file name is: Tulku\n",
      "The film title is:  Tulku\n",
      "\n",
      "The release year is:  2009\n",
      "\n",
      "The director is:  Gesar Mukpo\n",
      "\n",
      "The IMDB link is:  https://www.imdb.com/title/tt1654830/\n"
     ]
    },
    {
     "name": "stdin",
     "output_type": "stream",
     "text": [
      "\n",
      "Please confirm if this is the correct film by entering y/n (Press enter to skip):  n\n",
      "Please enter the correct imdb ID ONLY (Press enter to skip):  tt3278462\n"
     ]
    },
    {
     "name": "stdout",
     "output_type": "stream",
     "text": [
      "Film confirmed!\n",
      "The film title is:  Tulkou\n",
      "\n",
      "The release year is:  2013\n",
      "\n",
      "The director is:  Mohamed Fadera, Sami Guellai\n",
      "\n",
      "The IMDB link is:  https://www.imdb.com/title/tt3278462/\n",
      "The file name is: Manipulation\n",
      "The film title is:  Manipulation\n",
      "\n",
      "The release year is:  1991\n",
      "\n",
      "The director is:  Daniel Greaves\n",
      "\n",
      "The IMDB link is:  https://www.imdb.com/title/tt0102392/\n"
     ]
    },
    {
     "name": "stdin",
     "output_type": "stream",
     "text": [
      "\n",
      "Please confirm if this is the correct film by entering y/n (Press enter to skip):  y\n"
     ]
    },
    {
     "name": "stdout",
     "output_type": "stream",
     "text": [
      "Film confirmed!\n",
      "The file name is: The Color Purple\n",
      "The film title is:  The Color Purple\n",
      "\n",
      "The release year is:  1985\n",
      "\n",
      "The director is:  Steven Spielberg\n",
      "\n",
      "The IMDB link is:  https://www.imdb.com/title/tt0088939/\n"
     ]
    },
    {
     "name": "stdin",
     "output_type": "stream",
     "text": [
      "\n",
      "Please confirm if this is the correct film by entering y/n (Press enter to skip):  y\n"
     ]
    },
    {
     "name": "stdout",
     "output_type": "stream",
     "text": [
      "Film confirmed!\n",
      "The file name is: French Roast\n",
      "The film title is:  French Roast\n",
      "\n",
      "The release year is:  2008\n",
      "\n",
      "The director is:  Fabrice Joubert\n",
      "\n",
      "The IMDB link is:  https://www.imdb.com/title/tt1323520/\n"
     ]
    },
    {
     "name": "stdin",
     "output_type": "stream",
     "text": [
      "\n",
      "Please confirm if this is the correct film by entering y/n (Press enter to skip):  y\n"
     ]
    },
    {
     "name": "stdout",
     "output_type": "stream",
     "text": [
      "Film confirmed!\n",
      "The file name is: The Student\n",
      "The film title is:  The Student\n",
      "\n",
      "The release year is:  2016\n",
      "\n",
      "The director is:  Kirill Serebrennikov\n",
      "\n",
      "The IMDB link is:  https://www.imdb.com/title/tt4874206/\n"
     ]
    },
    {
     "name": "stdin",
     "output_type": "stream",
     "text": [
      "\n",
      "Please confirm if this is the correct film by entering y/n (Press enter to skip):  y\n"
     ]
    },
    {
     "name": "stdout",
     "output_type": "stream",
     "text": [
      "Film confirmed!\n",
      "The file name is: Darby Forever\n",
      "The film title is:  Darby Forever\n",
      "\n",
      "The release year is:  2016\n",
      "\n",
      "The director is:  Oz Rodriguez\n",
      "\n",
      "The IMDB link is:  https://www.imdb.com/title/tt5128626/\n"
     ]
    },
    {
     "name": "stdin",
     "output_type": "stream",
     "text": [
      "\n",
      "Please confirm if this is the correct film by entering y/n (Press enter to skip):  y\n"
     ]
    },
    {
     "name": "stdout",
     "output_type": "stream",
     "text": [
      "Film confirmed!\n",
      "The file name is: Mom\n",
      "The film title is:  Mom\n",
      "\n",
      "The release year is:  2013–2021\n",
      "\n",
      "The director is:  N/A\n",
      "\n",
      "The IMDB link is:  https://www.imdb.com/title/tt2660806/\n"
     ]
    },
    {
     "name": "stdin",
     "output_type": "stream",
     "text": [
      "\n",
      "Please confirm if this is the correct film by entering y/n (Press enter to skip):  \n"
     ]
    },
    {
     "name": "stdout",
     "output_type": "stream",
     "text": [
      "The file name is: The Disappearance of Eleanor Rigby - Him\n",
      "The film title is:  The Disappearance of Eleanor Rigby: Him\n",
      "\n",
      "The release year is:  2013\n",
      "\n",
      "The director is:  Ned Benson\n",
      "\n",
      "The IMDB link is:  https://www.imdb.com/title/tt1531924/\n"
     ]
    },
    {
     "name": "stdin",
     "output_type": "stream",
     "text": [
      "\n",
      "Please confirm if this is the correct film by entering y/n (Press enter to skip):  y\n"
     ]
    },
    {
     "name": "stdout",
     "output_type": "stream",
     "text": [
      "Film confirmed!\n",
      "The file name is: Toy Story 3\n",
      "The film title is:  Toy Story 3\n",
      "\n",
      "The release year is:  2010\n",
      "\n",
      "The director is:  Lee Unkrich\n",
      "\n",
      "The IMDB link is:  https://www.imdb.com/title/tt0435761/\n"
     ]
    },
    {
     "name": "stdin",
     "output_type": "stream",
     "text": [
      "\n",
      "Please confirm if this is the correct film by entering y/n (Press enter to skip):  y\n"
     ]
    },
    {
     "name": "stdout",
     "output_type": "stream",
     "text": [
      "Film confirmed!\n",
      "The file name is: Delivery\n",
      "The film title is:  Delivery\n",
      "\n",
      "The release year is:  2004\n",
      "\n",
      "The director is:  Nikos Panayotopoulos\n",
      "\n",
      "The IMDB link is:  https://www.imdb.com/title/tt0431720/\n"
     ]
    },
    {
     "name": "stdin",
     "output_type": "stream",
     "text": [
      "\n",
      "Please confirm if this is the correct film by entering y/n (Press enter to skip):  n\n",
      "Please enter the correct imdb ID ONLY (Press enter to skip):  tt0756639\n"
     ]
    },
    {
     "name": "stdout",
     "output_type": "stream",
     "text": [
      "Film confirmed!\n",
      "The film title is:  Delivery\n",
      "\n",
      "The release year is:  2005\n",
      "\n",
      "The director is:  Till Nowak\n",
      "\n",
      "The IMDB link is:  https://www.imdb.com/title/tt0756639/\n",
      "The file name is: Koffie\n",
      "The film title is:  Koffie\n",
      "\n",
      "The release year is:  2001\n",
      "\n",
      "The director is:  Christian Vervaet\n",
      "\n",
      "The IMDB link is:  https://www.imdb.com/title/tt0298398/\n"
     ]
    },
    {
     "name": "stdin",
     "output_type": "stream",
     "text": [
      "\n",
      "Please confirm if this is the correct film by entering y/n (Press enter to skip):  n\n",
      "Please enter the correct imdb ID ONLY (Press enter to skip):  tt2537590\n"
     ]
    },
    {
     "name": "stdout",
     "output_type": "stream",
     "text": [
      "Film confirmed!\n",
      "The film title is:  Coffee\n",
      "\n",
      "The release year is:  2012\n",
      "\n",
      "The director is:  Sjaak Rood\n",
      "\n",
      "The IMDB link is:  https://www.imdb.com/title/tt2537590/\n",
      "The file name is: Mandela Long Walk to Freedom\n",
      "The film title is:  Mandela: Long Walk to Freedom\n",
      "\n",
      "The release year is:  2013\n",
      "\n",
      "The director is:  Justin Chadwick\n",
      "\n",
      "The IMDB link is:  https://www.imdb.com/title/tt2304771/\n"
     ]
    },
    {
     "name": "stdin",
     "output_type": "stream",
     "text": [
      "\n",
      "Please confirm if this is the correct film by entering y/n (Press enter to skip):  y\n"
     ]
    },
    {
     "name": "stdout",
     "output_type": "stream",
     "text": [
      "Film confirmed!\n",
      "The file name is: The Dark Horse\n",
      "The film title is:  The Dark Horse\n",
      "\n",
      "The release year is:  2014\n",
      "\n",
      "The director is:  James Napier Robertson\n",
      "\n",
      "The IMDB link is:  https://www.imdb.com/title/tt2192016/\n"
     ]
    },
    {
     "name": "stdin",
     "output_type": "stream",
     "text": [
      "\n",
      "Please confirm if this is the correct film by entering y/n (Press enter to skip):  y\n"
     ]
    },
    {
     "name": "stdout",
     "output_type": "stream",
     "text": [
      "Film confirmed!\n",
      "The file name is: Grandma's Hero\n",
      "The film title is:  Grandma's Hero\n",
      "\n",
      "The release year is:  2016\n",
      "\n",
      "The director is:  Corentin Monnier, Ben Ozeri\n",
      "\n",
      "The IMDB link is:  https://www.imdb.com/title/tt5799348/\n"
     ]
    },
    {
     "name": "stdin",
     "output_type": "stream",
     "text": [
      "\n",
      "Please confirm if this is the correct film by entering y/n (Press enter to skip):  y\n"
     ]
    },
    {
     "name": "stdout",
     "output_type": "stream",
     "text": [
      "Film confirmed!\n",
      "The file name is: Once\n",
      "The film title is:  Once\n",
      "\n",
      "The release year is:  2007\n",
      "\n",
      "The director is:  John Carney\n",
      "\n",
      "The IMDB link is:  https://www.imdb.com/title/tt0907657/\n"
     ]
    },
    {
     "name": "stdin",
     "output_type": "stream",
     "text": [
      "\n",
      "Please confirm if this is the correct film by entering y/n (Press enter to skip):  y\n"
     ]
    },
    {
     "name": "stdout",
     "output_type": "stream",
     "text": [
      "Film confirmed!\n",
      "The file name is: Load\n",
      "The film title is:  Load\n",
      "\n",
      "The release year is:  2012\n",
      "\n",
      "The director is:  Erden Kiral\n",
      "\n",
      "The IMDB link is:  https://www.imdb.com/title/tt2360318/\n"
     ]
    },
    {
     "name": "stdin",
     "output_type": "stream",
     "text": [
      "\n",
      "Please confirm if this is the correct film by entering y/n (Press enter to skip):  n\n",
      "Please enter the correct imdb ID ONLY (Press enter to skip):  tt3587350\n"
     ]
    },
    {
     "name": "stdout",
     "output_type": "stream",
     "text": [
      "Film confirmed!\n",
      "The film title is:  Load\n",
      "\n",
      "The release year is:  2014\n",
      "\n",
      "The director is:  Robert Moreno Meikins, Niv Shpigel\n",
      "\n",
      "The IMDB link is:  https://www.imdb.com/title/tt3587350/\n",
      "The file name is: Ladybird Ladybird\n",
      "The film title is:  Ladybird Ladybird\n",
      "\n",
      "The release year is:  1994\n",
      "\n",
      "The director is:  Ken Loach\n",
      "\n",
      "The IMDB link is:  https://www.imdb.com/title/tt0110296/\n"
     ]
    },
    {
     "name": "stdin",
     "output_type": "stream",
     "text": [
      "\n",
      "Please confirm if this is the correct film by entering y/n (Press enter to skip):  y\n"
     ]
    },
    {
     "name": "stdout",
     "output_type": "stream",
     "text": [
      "Film confirmed!\n",
      "The file name is: Friendsheep\n",
      "The film title is:  Friendsheep\n",
      "\n",
      "The release year is:  2012\n",
      "\n",
      "The director is:  Jaime Maestro\n",
      "\n",
      "The IMDB link is:  https://www.imdb.com/title/tt2266727/\n"
     ]
    },
    {
     "name": "stdin",
     "output_type": "stream",
     "text": [
      "\n",
      "Please confirm if this is the correct film by entering y/n (Press enter to skip):  y\n"
     ]
    },
    {
     "name": "stdout",
     "output_type": "stream",
     "text": [
      "Film confirmed!\n",
      "The file name is: Sweet November\n",
      "The film title is:  Sweet November\n",
      "\n",
      "The release year is:  2001\n",
      "\n",
      "The director is:  Pat O'Connor\n",
      "\n",
      "The IMDB link is:  https://www.imdb.com/title/tt0230838/\n"
     ]
    },
    {
     "name": "stdin",
     "output_type": "stream",
     "text": [
      "\n",
      "Please confirm if this is the correct film by entering y/n (Press enter to skip):  y\n"
     ]
    },
    {
     "name": "stdout",
     "output_type": "stream",
     "text": [
      "Film confirmed!\n",
      "The file name is: Monsieur Cok\n"
     ]
    },
    {
     "name": "stdin",
     "output_type": "stream",
     "text": [
      "Could not find the film. Please enter the correct imdb ID ONLY:  tt1352384\n"
     ]
    },
    {
     "name": "stdout",
     "output_type": "stream",
     "text": [
      "The film title is:  Mister Cok\n",
      "\n",
      "The release year is:  2009\n",
      "\n",
      "The director is:  Franck Dion\n",
      "\n",
      "The IMDB link is:  https://www.imdb.com/title/tt1352384/\n",
      "Film confirmed!\n",
      "The file name is: Music Within\n",
      "The film title is:  Music Within\n",
      "\n",
      "The release year is:  2007\n",
      "\n",
      "The director is:  Steven Sawalich\n",
      "\n",
      "The IMDB link is:  https://www.imdb.com/title/tt0422783/\n"
     ]
    },
    {
     "name": "stdin",
     "output_type": "stream",
     "text": [
      "\n",
      "Please confirm if this is the correct film by entering y/n (Press enter to skip):  y\n"
     ]
    },
    {
     "name": "stdout",
     "output_type": "stream",
     "text": [
      "Film confirmed!\n",
      "The file name is: This Film Is Not Yet Rated\n",
      "The film title is:  This Film Is Not Yet Rated\n",
      "\n",
      "The release year is:  2006\n",
      "\n",
      "The director is:  Kirby Dick\n",
      "\n",
      "The IMDB link is:  https://www.imdb.com/title/tt0493459/\n"
     ]
    },
    {
     "name": "stdin",
     "output_type": "stream",
     "text": [
      "\n",
      "Please confirm if this is the correct film by entering y/n (Press enter to skip):  y\n"
     ]
    },
    {
     "name": "stdout",
     "output_type": "stream",
     "text": [
      "Film confirmed!\n",
      "The file name is: Minions\n",
      "The film title is:  Minions\n",
      "\n",
      "The release year is:  2015\n",
      "\n",
      "The director is:  Kyle Balda, Pierre Coffin\n",
      "\n",
      "The IMDB link is:  https://www.imdb.com/title/tt2293640/\n"
     ]
    },
    {
     "name": "stdin",
     "output_type": "stream",
     "text": [
      "\n",
      "Please confirm if this is the correct film by entering y/n (Press enter to skip):  y\n"
     ]
    },
    {
     "name": "stdout",
     "output_type": "stream",
     "text": [
      "Film confirmed!\n",
      "The file name is: Living on One Dollar\n",
      "The film title is:  Living on One Dollar\n",
      "\n",
      "The release year is:  2013\n",
      "\n",
      "The director is:  Zach Ingrasci, Sean Leonard, Chris Temple\n",
      "\n",
      "The IMDB link is:  https://www.imdb.com/title/tt2625598/\n"
     ]
    },
    {
     "name": "stdin",
     "output_type": "stream",
     "text": [
      "\n",
      "Please confirm if this is the correct film by entering y/n (Press enter to skip):  y\n"
     ]
    },
    {
     "name": "stdout",
     "output_type": "stream",
     "text": [
      "Film confirmed!\n",
      "The file name is: Serial Taxi\n",
      "The film title is:  Serial Taxi\n",
      "\n",
      "The release year is:  2013\n",
      "\n",
      "The director is:  Paolo Cogliati\n",
      "\n",
      "The IMDB link is:  https://www.imdb.com/title/tt2926958/\n"
     ]
    },
    {
     "name": "stdin",
     "output_type": "stream",
     "text": [
      "\n",
      "Please confirm if this is the correct film by entering y/n (Press enter to skip):  y\n"
     ]
    },
    {
     "name": "stdout",
     "output_type": "stream",
     "text": [
      "Film confirmed!\n",
      "The file name is: Something Left, Something Taken\n",
      "The film title is:  Something Left, Something Taken\n",
      "\n",
      "The release year is:  2010\n",
      "\n",
      "The director is:  Ru Kuwahata, Max Porter\n",
      "\n",
      "The IMDB link is:  https://www.imdb.com/title/tt2079583/\n"
     ]
    },
    {
     "name": "stdin",
     "output_type": "stream",
     "text": [
      "\n",
      "Please confirm if this is the correct film by entering y/n (Press enter to skip):  y\n"
     ]
    },
    {
     "name": "stdout",
     "output_type": "stream",
     "text": [
      "Film confirmed!\n",
      "The file name is: Manoman\n",
      "The film title is:  Manoman\n",
      "\n",
      "The release year is:  2015\n",
      "\n",
      "The director is:  Simon Cartwright\n",
      "\n",
      "The IMDB link is:  https://www.imdb.com/title/tt4636194/\n"
     ]
    },
    {
     "name": "stdin",
     "output_type": "stream",
     "text": [
      "\n",
      "Please confirm if this is the correct film by entering y/n (Press enter to skip):  y\n"
     ]
    },
    {
     "name": "stdout",
     "output_type": "stream",
     "text": [
      "Film confirmed!\n",
      "The file name is: Fruitvale Station\n",
      "The film title is:  Fruitvale Station\n",
      "\n",
      "The release year is:  2013\n",
      "\n",
      "The director is:  Ryan Coogler\n",
      "\n",
      "The IMDB link is:  https://www.imdb.com/title/tt2334649/\n"
     ]
    },
    {
     "name": "stdin",
     "output_type": "stream",
     "text": [
      "\n",
      "Please confirm if this is the correct film by entering y/n (Press enter to skip):  y\n"
     ]
    },
    {
     "name": "stdout",
     "output_type": "stream",
     "text": [
      "Film confirmed!\n",
      "The file name is: Christine\n",
      "The film title is:  Christine\n",
      "\n",
      "The release year is:  1983\n",
      "\n",
      "The director is:  John Carpenter\n",
      "\n",
      "The IMDB link is:  https://www.imdb.com/title/tt0085333/\n"
     ]
    },
    {
     "name": "stdin",
     "output_type": "stream",
     "text": [
      "\n",
      "Please confirm if this is the correct film by entering y/n (Press enter to skip):  n\n",
      "Please enter the correct imdb ID ONLY (Press enter to skip):  tt4666726\n"
     ]
    },
    {
     "name": "stdout",
     "output_type": "stream",
     "text": [
      "Film confirmed!\n",
      "The film title is:  Christine\n",
      "\n",
      "The release year is:  2016\n",
      "\n",
      "The director is:  Antonio Campos\n",
      "\n",
      "The IMDB link is:  https://www.imdb.com/title/tt4666726/\n",
      "The file name is: The United States of Leland\n",
      "The film title is:  The United States of Leland\n",
      "\n",
      "The release year is:  2003\n",
      "\n",
      "The director is:  Matthew Ryan Hoge\n",
      "\n",
      "The IMDB link is:  https://www.imdb.com/title/tt0301976/\n"
     ]
    },
    {
     "name": "stdin",
     "output_type": "stream",
     "text": [
      "\n",
      "Please confirm if this is the correct film by entering y/n (Press enter to skip):  y\n"
     ]
    },
    {
     "name": "stdout",
     "output_type": "stream",
     "text": [
      "Film confirmed!\n",
      "The file name is: Dust Buddies\n",
      "The film title is:  Dust Buddies\n",
      "\n",
      "The release year is:  2016\n",
      "\n",
      "The director is:  Beth Tomashek, Sam Wade\n",
      "\n",
      "The IMDB link is:  https://www.imdb.com/title/tt6128252/\n"
     ]
    },
    {
     "name": "stdin",
     "output_type": "stream",
     "text": [
      "\n",
      "Please confirm if this is the correct film by entering y/n (Press enter to skip):  y\n"
     ]
    },
    {
     "name": "stdout",
     "output_type": "stream",
     "text": [
      "Film confirmed!\n",
      "The file name is: Snake Bite\n",
      "The film title is:  Snake Bite\n",
      "\n",
      "The release year is:  2016\n",
      "\n",
      "The director is:  Tim Hyten\n",
      "\n",
      "The IMDB link is:  https://www.imdb.com/title/tt5110024/\n"
     ]
    },
    {
     "name": "stdin",
     "output_type": "stream",
     "text": [
      "\n",
      "Please confirm if this is the correct film by entering y/n (Press enter to skip):  y\n"
     ]
    },
    {
     "name": "stdout",
     "output_type": "stream",
     "text": [
      "Film confirmed!\n",
      "The file name is: The Old Man and the Sea\n",
      "The film title is:  The Old Man and the Sea\n",
      "\n",
      "The release year is:  1958\n",
      "\n",
      "The director is:  John Sturges, Fred Zinnemann\n",
      "\n",
      "The IMDB link is:  https://www.imdb.com/title/tt0052027/\n"
     ]
    },
    {
     "name": "stdin",
     "output_type": "stream",
     "text": [
      "\n",
      "Please confirm if this is the correct film by entering y/n (Press enter to skip):  n\n",
      "Please enter the correct imdb ID ONLY (Press enter to skip):  tt0207639\n"
     ]
    },
    {
     "name": "stdout",
     "output_type": "stream",
     "text": [
      "Film confirmed!\n",
      "The film title is:  The Old Man and the Sea\n",
      "\n",
      "The release year is:  1999\n",
      "\n",
      "The director is:  Aleksandr Petrov\n",
      "\n",
      "The IMDB link is:  https://www.imdb.com/title/tt0207639/\n",
      "The file name is: Meanwhile\n",
      "The film title is:  Meanwhile\n",
      "\n",
      "The release year is:  2011\n",
      "\n",
      "The director is:  Hal Hartley\n",
      "\n",
      "The IMDB link is:  https://www.imdb.com/title/tt1748113/\n"
     ]
    },
    {
     "name": "stdin",
     "output_type": "stream",
     "text": [
      "\n",
      "Please confirm if this is the correct film by entering y/n (Press enter to skip):  n\n",
      "Please enter the correct imdb ID ONLY (Press enter to skip):  tt4022814\n"
     ]
    },
    {
     "name": "stdout",
     "output_type": "stream",
     "text": [
      "Film confirmed!\n",
      "The film title is:  Meanwhile\n",
      "\n",
      "The release year is:  2014\n",
      "\n",
      "The director is:  Stephen McNally\n",
      "\n",
      "The IMDB link is:  https://www.imdb.com/title/tt4022814/\n",
      "The file name is: The Ascent\n",
      "The film title is:  The Ascent\n",
      "\n",
      "The release year is:  1977\n",
      "\n",
      "The director is:  Larisa Shepitko\n",
      "\n",
      "The IMDB link is:  https://www.imdb.com/title/tt0075404/\n"
     ]
    },
    {
     "name": "stdin",
     "output_type": "stream",
     "text": [
      "\n",
      "Please confirm if this is the correct film by entering y/n (Press enter to skip):  y\n"
     ]
    },
    {
     "name": "stdout",
     "output_type": "stream",
     "text": [
      "Film confirmed!\n",
      "The file name is: Hotel Transylvania 2 - CAM\n"
     ]
    },
    {
     "name": "stdin",
     "output_type": "stream",
     "text": [
      "Could not find the film. Please enter the correct imdb ID ONLY:  Hotel Transylvania 2\n"
     ]
    },
    {
     "ename": "KeyError",
     "evalue": "'Title'",
     "output_type": "error",
     "traceback": [
      "\u001b[0;31m---------------------------------------------------------------------------\u001b[0m",
      "\u001b[0;31mKeyError\u001b[0m                                  Traceback (most recent call last)",
      "Cell \u001b[0;32mIn[28], line 58\u001b[0m\n\u001b[1;32m     56\u001b[0m \u001b[38;5;66;03m# var_exists = data['Director'] in locals() or data['Director'] in globals()\u001b[39;00m\n\u001b[0;32m---> 58\u001b[0m \u001b[38;5;28;01mtry\u001b[39;00m: data[\u001b[38;5;124m'\u001b[39m\u001b[38;5;124mimdbID\u001b[39m\u001b[38;5;124m'\u001b[39m]\n\u001b[1;32m     59\u001b[0m \u001b[38;5;28;01mexcept\u001b[39;00m \u001b[38;5;167;01mKeyError\u001b[39;00m:\n",
      "\u001b[0;31mKeyError\u001b[0m: 'imdbID'",
      "\nDuring handling of the above exception, another exception occurred:\n",
      "\u001b[0;31mKeyError\u001b[0m                                  Traceback (most recent call last)",
      "Cell \u001b[0;32mIn[28], line 71\u001b[0m\n\u001b[1;32m     69\u001b[0m response \u001b[38;5;241m=\u001b[39m requests\u001b[38;5;241m.\u001b[39mget(url)\n\u001b[1;32m     70\u001b[0m data \u001b[38;5;241m=\u001b[39m json\u001b[38;5;241m.\u001b[39mloads(response\u001b[38;5;241m.\u001b[39mtext)\n\u001b[0;32m---> 71\u001b[0m \u001b[38;5;28mprint\u001b[39m(\u001b[38;5;124m\"\u001b[39m\u001b[38;5;124mThe film title is: \u001b[39m\u001b[38;5;124m\"\u001b[39m, \u001b[43mdata\u001b[49m\u001b[43m[\u001b[49m\u001b[38;5;124;43m'\u001b[39;49m\u001b[38;5;124;43mTitle\u001b[39;49m\u001b[38;5;124;43m'\u001b[39;49m\u001b[43m]\u001b[49m)\n\u001b[1;32m     72\u001b[0m \u001b[38;5;28mprint\u001b[39m(\u001b[38;5;124m\"\u001b[39m\u001b[38;5;130;01m\\n\u001b[39;00m\u001b[38;5;124mThe release year is: \u001b[39m\u001b[38;5;124m\"\u001b[39m, data[\u001b[38;5;124m'\u001b[39m\u001b[38;5;124mYear\u001b[39m\u001b[38;5;124m'\u001b[39m])\n\u001b[1;32m     73\u001b[0m \u001b[38;5;28mprint\u001b[39m(\u001b[38;5;124m\"\u001b[39m\u001b[38;5;130;01m\\n\u001b[39;00m\u001b[38;5;124mThe director is: \u001b[39m\u001b[38;5;124m\"\u001b[39m, data[\u001b[38;5;124m'\u001b[39m\u001b[38;5;124mDirector\u001b[39m\u001b[38;5;124m'\u001b[39m])\n",
      "\u001b[0;31mKeyError\u001b[0m: 'Title'"
     ]
    }
   ],
   "source": [
    "import os\n",
    "import requests\n",
    "import json\n",
    "import shutil\n",
    "from bs4 import BeautifulSoup\n",
    "\n",
    "# Get folder path from user\n",
    "folder_path = input(\"Please enter the folder path: \")\n",
    "\n",
    "# Get list of files in the folder \n",
    "# files = os.listdir(folder_path)\n",
    "files = [f for f in os.listdir(folder_path) if os.path.isfile(os.path.join(folder_path, f))]\n",
    "\n",
    "# Iterate through each file in the folder \n",
    "for file in files:\n",
    "\n",
    "    if file.startswith('.'):\n",
    "        continue\n",
    "\n",
    "    # Get movie name from file name \n",
    "    \n",
    "    movie_name = os.path.splitext(file)[0]\n",
    "    print(\"The file name is: \" + movie_name)\n",
    "    \n",
    "    # movie_name = file.split('.')[0:5]\n",
    "    # a1 = \" \"\n",
    "    # for i in range(len(movie_name)):\n",
    "    #     if movie_name[i] == ' ':\n",
    "    #         a1 = a1 + '+'\n",
    "    #     else:\n",
    "    #         if i != 0:\n",
    "    #             a1 = a1 + '+' + movie_name[i]\n",
    "    #         else:\n",
    "    #             a1 = movie_name[i]\n",
    "    # movie_name1 = a1\n",
    "    # print(\"The film title is: \" + movie_name1)\n",
    "\n",
    "#     confirmTitle = input(\"What is your preffered film title for the search: \" + \"\\n\" + movie_name1 + \"\\nEnter with + (enter to skip): \" )\n",
    "    \n",
    "#     if confirmTitle == \"\":\n",
    "#         sourceFile = os.path.join(folder_path, file)\n",
    "#         destFile = os.path.join(folder_path, \"Not Found\", file)\n",
    "#         shutil.move(sourceFile, destFile)\n",
    "#         continue\n",
    "        \n",
    "    # Search movie on IMDB and get its details \n",
    "    # url = 'https://www.imdb.com/find?ref_=nv_sr_fn&q=' + movie_name + '&s=all'\n",
    "    # url = 'http://www.omdbapi.com/?apikey=a34d4e1f&t=' + confirmTitle\n",
    "    url = 'http://www.omdbapi.com/?apikey=a34d4e1f&t=' + movie_name\n",
    "    response = requests.get(url)\n",
    "    \n",
    "    if response.status_code == 200:\n",
    "        # Parse response as JSON\n",
    "        data = json.loads(response.text)\n",
    "        \n",
    "        # var_exists = data['Director'] in locals() or data['Director'] in globals()\n",
    "        \n",
    "        try: data['imdbID']\n",
    "        except KeyError:\n",
    "            ID = input(\"Could not find the film. Please enter the correct imdb ID ONLY (Press enter to skip): \")\n",
    "            if ID == \"\":\n",
    "                sourceFile = os.path.join(folder_path, file)\n",
    "                destFile = os.path.join(folder_path, \"Not Found\", file)\n",
    "                shutil.move(sourceFile, destFile)\n",
    "                continue\n",
    "            else:\n",
    "                imdbUrl = \"https://www.imdb.com/title/\" + ID + \"/\"\n",
    "                url = 'http://www.omdbapi.com/?apikey=a34d4e1f&i=' + ID\n",
    "                response = requests.get(url)\n",
    "                data = json.loads(response.text)\n",
    "                print(\"The film title is: \", data['Title'])\n",
    "                print(\"\\nThe release year is: \", data['Year'])\n",
    "                print(\"\\nThe director is: \", data['Director'])\n",
    "                print(\"\\nThe IMDB link is: \", imdbUrl)\n",
    "                confirmMovie = \"y\"\n",
    "        else:\n",
    "            imdbUrl = \"https://www.imdb.com/title/\" + data['imdbID'] + \"/\"\n",
    "            print(\"The film title is: \", data['Title'])\n",
    "            print(\"\\nThe release year is: \", data['Year'])\n",
    "            print(\"\\nThe director is: \", data['Director'])\n",
    "            print(\"\\nThe IMDB link is: \", imdbUrl)\n",
    "            confirmMovie = input(\"\\nPlease confirm if this is the correct film by entering y/n (Press enter to skip): \" )\n",
    "            url = 'http://www.omdbapi.com/?apikey=a34d4e1f&t=' + movie_name1\n",
    "            response = requests.get(url)\n",
    "\n",
    "        if confirmMovie == 'n':\n",
    "            ID = input(\"Please enter the correct imdb ID ONLY (Press enter to skip): \")\n",
    "            imdbUrl = \"https://www.imdb.com/title/\" + ID + \"/\"\n",
    "\n",
    "            url = 'http://www.omdbapi.com/?apikey=a34d4e1f&i=' + ID\n",
    "            response = requests.get(url)\n",
    "            data = json.loads(response.text)\n",
    "\n",
    "            # Get director name and release year from response\n",
    "            director_name = data['Director']\n",
    "            release_year = data['Year']\n",
    "            movie_name = data['Title']\n",
    "            \n",
    "            print('Film confirmed!')\n",
    "            print(\"The film title is: \", data['Title'])\n",
    "            print(\"\\nThe release year is: \", data['Year'])\n",
    "            print(\"\\nThe director is: \", data['Director'])\n",
    "            print(\"\\nThe IMDB link is: \", imdbUrl)\n",
    "\n",
    "            # Create directory structure based on director name and release year\n",
    "            dir_structure = os.path.join(folder_path, director_name, release_year + ' - ' + movie_name)\n",
    "\n",
    "            if not os.path.exists(dir_structure):\n",
    "                os.makedirs(dir_structure)\n",
    "\n",
    "            # Move the file to new directory structure\n",
    "            sourceFilePath = os.path.join(folder_path, file)\n",
    "\n",
    "            destFilePath = os.path.join(dir_structure, file)\n",
    "\n",
    "            os.rename(sourceFilePath, destFilePath)\n",
    "            os.chdir(dir_structure)\n",
    "\n",
    "\n",
    "            new_file_name = movie_name + os.path.splitext(file)[1]\n",
    "\n",
    "            os.rename(file, new_file_name)\n",
    "            os.chdir(folder_path)\n",
    "\n",
    "        elif confirmMovie == \"\":\n",
    "            sourceFile = os.path.join(folder_path, file)\n",
    "            destFile = os.path.join(folder_path, \"Not Found\", file)\n",
    "            shutil.move(sourceFile, destFile)\n",
    "            continue\n",
    "\n",
    "        elif confirmMovie == \"y\":\n",
    "            print('Film confirmed!')\n",
    "\n",
    "            # Get director name and release year from response\n",
    "            director_name = data['Director']\n",
    "            release_year = data['Year']\n",
    "            movie_name = data['Title']\n",
    "\n",
    "            # Create directory structure based on director name and release year\n",
    "            dir_structure = os.path.join(folder_path, director_name, release_year + ' - ' + movie_name)\n",
    "\n",
    "            if not os.path.exists(dir_structure):\n",
    "                os.makedirs(dir_structure)\n",
    "\n",
    "            # Move the file to new directory structure\n",
    "            sourceFilePath = os.path.join(folder_path, file)\n",
    "\n",
    "            destFilePath = os.path.join(dir_structure, file)\n",
    "\n",
    "            os.rename(sourceFilePath, destFilePath)\n",
    "            os.chdir(dir_structure)\n",
    "\n",
    "            new_file_name = movie_name + os.path.splitext(file)[1]\n",
    "\n",
    "            os.rename(file, new_file_name)\n",
    "            os.chdir(folder_path)\n",
    "            \n",
    "        else:\n",
    "            ID = input(\"You entered an unidentified answer. Please enter the correct imdb ID ONLY: \")\n",
    "            imdbUrl = \"https://www.imdb.com/title/\" + ID + \"/\"\n",
    "\n",
    "            url = 'http://www.omdbapi.com/?apikey=a34d4e1f&i=' + ID\n",
    "            response = requests.get(url)\n",
    "            data = json.loads(response.text)\n",
    "\n",
    "            # Get director name and release year from response\n",
    "            director_name = data['Director']\n",
    "            release_year = data['Year']\n",
    "            movie_name = data['Title']\n",
    "\n",
    "            # Create directory structure based on director name and release year\n",
    "            dir_structure = os.path.join(folder_path, director_name, release_year + ' - ' + movie_name)\n",
    "\n",
    "            if not os.path.exists(dir_structure):\n",
    "                os.makedirs(dir_structure)\n",
    "\n",
    "            # Move the file to new directory structure\n",
    "            sourceFilePath = os.path.join(folder_path, file)\n",
    "\n",
    "            destFilePath = os.path.join(dir_structure, file)\n",
    "\n",
    "            os.rename(sourceFilePath, destFilePath)\n",
    "            os.chdir(dir_structure)\n",
    "\n",
    "\n",
    "            new_file_name = movie_name + os.path.splitext(file)[1]\n",
    "\n",
    "            os.rename(file, new_file_name)\n",
    "            os.chdir(folder_path)\n",
    "                \n",
    "print(\"Moved %s to %s\" % (file, dir_structure))  \n",
    "\n"
   ]
  },
  {
   "cell_type": "code",
   "execution_count": null,
   "id": "5e4f69e6-8147-4e9b-8c55-b483dba2421d",
   "metadata": {},
   "outputs": [],
   "source": []
  }
 ],
 "metadata": {
  "kernelspec": {
   "display_name": "Python 3 (ipykernel)",
   "language": "python",
   "name": "python3"
  },
  "language_info": {
   "codemirror_mode": {
    "name": "ipython",
    "version": 3
   },
   "file_extension": ".py",
   "mimetype": "text/x-python",
   "name": "python",
   "nbconvert_exporter": "python",
   "pygments_lexer": "ipython3",
   "version": "3.10.9"
  }
 },
 "nbformat": 4,
 "nbformat_minor": 5
}
